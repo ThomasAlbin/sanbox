{
 "cells": [
  {
   "cell_type": "markdown",
   "id": "f14c9d7a",
   "metadata": {},
   "source": [
    "# Step 5.5: Deep Learning - Latent Space"
   ]
  },
  {
   "cell_type": "code",
   "execution_count": 1,
   "id": "63474560",
   "metadata": {},
   "outputs": [
    {
     "name": "stdout",
     "output_type": "stream",
     "text": [
      "INFO:tensorflow:Enabling eager execution\n",
      "INFO:tensorflow:Enabling v2 tensorshape\n",
      "INFO:tensorflow:Enabling resource variables\n",
      "INFO:tensorflow:Enabling tensor equality\n",
      "INFO:tensorflow:Enabling control flow v2\n"
     ]
    }
   ],
   "source": [
    "# Import standard libraries\n",
    "import os\n",
    "\n",
    "# Import installed libraries\n",
    "import ipywidgets\n",
    "from matplotlib import pyplot as plt\n",
    "import numpy as np\n",
    "import pandas as pd\n",
    "\n",
    "from sklearn import preprocessing\n",
    "\n",
    "import tensorflow.keras as keras\n",
    "\n",
    "from tqdm.keras import TqdmCallback\n",
    "\n",
    "# Matplotlib settings\n",
    "# Set the dark mode and the font size and style\n",
    "plt.style.use('dark_background')\n",
    "plt.rc('font', family='serif', size=18)"
   ]
  },
  {
   "cell_type": "code",
   "execution_count": 2,
   "id": "af9f8681",
   "metadata": {},
   "outputs": [],
   "source": [
    "# Let's mount the Google Drive, where we store files and models (if applicable, otherwise work\n",
    "# locally)\n",
    "try:\n",
    "    from google.colab import drive\n",
    "    drive.mount('/gdrive')\n",
    "    core_path = \"/gdrive/MyDrive/Colab/asteroid_taxonomy/\"\n",
    "except ModuleNotFoundError:\n",
    "    core_path = \"\""
   ]
  },
  {
   "cell_type": "code",
   "execution_count": 3,
   "id": "71bc69f6",
   "metadata": {},
   "outputs": [],
   "source": [
    "# Load the level 2 asteroid data\n",
    "asteroids_df = pd.read_pickle(os.path.join(core_path, \"data/lvl2/\", \"asteroids.pkl\"))"
   ]
  },
  {
   "cell_type": "code",
   "execution_count": 4,
   "id": "62493261",
   "metadata": {},
   "outputs": [],
   "source": [
    "# Allocate the spectra to one array and the classes to another one\n",
    "asteroids_X = np.array([k[\"Reflectance_norm550nm\"].tolist() for k in asteroids_df[\"SpectrumDF\"]])\n",
    "asteroids_y = np.array(asteroids_df[\"Main_Group\"].to_list())\n",
    "asteroids_y_bus = np.array(asteroids_df[\"Bus_Class\"].to_list())"
   ]
  },
  {
   "cell_type": "code",
   "execution_count": 5,
   "id": "04cb3e5e-4c39-426e-93b8-8f14796de23a",
   "metadata": {},
   "outputs": [],
   "source": [
    "# In this example we create a single test-training split with a ratio of 0.8 / 0.2\n",
    "from sklearn.model_selection import StratifiedShuffleSplit\n",
    "sss = StratifiedShuffleSplit(n_splits=1, test_size=0.2)\n",
    "\n",
    "# Create a simple, single train / test split\n",
    "for train_index, test_index in sss.split(asteroids_X, asteroids_y):\n",
    "    \n",
    "    X_train, X_test = asteroids_X[train_index], asteroids_X[test_index]\n",
    "    y_train, y_test = asteroids_y[train_index], asteroids_y[test_index]\n",
    "    y_train_bus, y_test_bus = asteroids_y_bus[train_index], asteroids_y_bus[test_index]"
   ]
  },
  {
   "cell_type": "markdown",
   "id": "80f9eb12-f475-47a3-8439-5a6ebd91a674",
   "metadata": {},
   "source": [
    "## Scaling the data\n",
    "\n",
    "The data are already scaled at 550 nm. However, in our case we re-scale all spectra from 0 to 1. Due to the already present pre-processing, no exhaustive processing is needed.\n",
    "\n",
    "Further, we also need to reshape the data for the 1D ConvNets. Normally, one would expect to use an array with m rows (number of samples), each with n dimensions (number of features, e.g., time stamps). However, for 1D ConvNets keras expectes a structure like (m, n, 1). Consequently, each individial feature needs to be stores as a single dimensional array."
   ]
  },
  {
   "cell_type": "code",
   "execution_count": 6,
   "id": "87548b42-2b1f-4f2b-8718-600394d91b8a",
   "metadata": {},
   "outputs": [],
   "source": [
    "# Scale the training and test data\n",
    "X_train_scaled = \\\n",
    "    np.array([(k - np.min(k)) / (np.max(k - np.min(k))) for k in X_train]).reshape(-1,49,1)\n",
    "X_test_scaled = \\\n",
    "    np.array([(k - np.min(k)) / (np.max(k - np.min(k))) for k in X_test]).reshape(-1,49,1)"
   ]
  },
  {
   "cell_type": "code",
   "execution_count": 7,
   "id": "9a31cab9-07af-48d7-9230-7a00e866b743",
   "metadata": {},
   "outputs": [
    {
     "name": "stdout",
     "output_type": "stream",
     "text": [
      "Number of inputs: 49\n",
      "(1071, 49, 1)\n"
     ]
    }
   ],
   "source": [
    "# Let's print the results\n",
    "n_inputs = asteroids_X.shape[1]\n",
    "print(f\"Number of inputs: {n_inputs}\")\n",
    "\n",
    "# Take a look at the shape of the scaled dataset. We have 1071 spectra with 49 features, but each\n",
    "# feature (reflectance for a particular wavelength) is stored as a 1D array (1).\n",
    "print(X_train_scaled.shape)"
   ]
  },
  {
   "cell_type": "markdown",
   "id": "d48fcbf6-e5fc-478f-ac77-8bb1087f9042",
   "metadata": {},
   "source": [
    "## Building the Autoencoder\n",
    "\n",
    "Now we create a ConvNet Autoencoder. Since we have a rather small dataset we"
   ]
  },
  {
   "cell_type": "code",
   "execution_count": 8,
   "id": "1a6f2fd9-11d9-4494-b68e-eea0e2ccda58",
   "metadata": {},
   "outputs": [
    {
     "name": "stdout",
     "output_type": "stream",
     "text": [
      "Model: \"model\"\n",
      "_________________________________________________________________\n",
      "Layer (type)                 Output Shape              Param #   \n",
      "=================================================================\n",
      "input_1 (InputLayer)         [(None, 49, 1)]           0         \n",
      "_________________________________________________________________\n",
      "conv1d (Conv1D)              (None, 49, 4)             16        \n",
      "_________________________________________________________________\n",
      "conv1d_1 (Conv1D)            (None, 49, 8)             104       \n",
      "_________________________________________________________________\n",
      "flatten (Flatten)            (None, 392)               0         \n",
      "_________________________________________________________________\n",
      "dense (Dense)                (None, 2)                 786       \n",
      "_________________________________________________________________\n",
      "dense_1 (Dense)              (None, 49)                147       \n",
      "_________________________________________________________________\n",
      "reshape (Reshape)            (None, 49, 1)             0         \n",
      "_________________________________________________________________\n",
      "conv1d_transpose (Conv1DTran (None, 49, 8)             32        \n",
      "_________________________________________________________________\n",
      "conv1d_transpose_1 (Conv1DTr (None, 49, 4)             100       \n",
      "_________________________________________________________________\n",
      "conv1d_2 (Conv1D)            (None, 49, 1)             5         \n",
      "=================================================================\n",
      "Total params: 1,190\n",
      "Trainable params: 1,190\n",
      "Non-trainable params: 0\n",
      "_________________________________________________________________\n"
     ]
    }
   ],
   "source": [
    "# Let's create an autoencoder\n",
    "n_bottleneck = 2\n",
    "\n",
    "# Input layer\n",
    "in_layer = keras.layers.Input(shape=(n_inputs,1))\n",
    "\n",
    "# First hidden layer (encoder side)\n",
    "enc_hid_lay1 = keras.layers.Conv1D(4, 3, activation=\"relu\", padding=\"same\")(in_layer)\n",
    "\n",
    "# Second hidden layer (encoder side)\n",
    "enc_hid_lay2 = keras.layers.Conv1D(8, 3, activation=\"relu\", padding=\"same\")(enc_hid_lay1)\n",
    "\n",
    "# Encoder (\"Bottleneck\" of the Autoencoder)\n",
    "bottleneck_lay = keras.layers.Flatten()(enc_hid_lay2)\n",
    "bottleneck_lay = keras.layers.Dense(n_bottleneck)(bottleneck_lay)\n",
    "\n",
    "\n",
    "# The original shape must be restored and reshaped accordingly\n",
    "reset_lay = keras.layers.Dense(49)(bottleneck_lay)\n",
    "reshape_lay = keras.layers.Reshape((49,1))(reset_lay)\n",
    "\n",
    "# First and second hidden decoder layers\n",
    "dec_hid_lay1 = keras.layers.Conv1DTranspose(8, 3, strides=1,\n",
    "                                            activation=\"relu\", padding=\"same\")(reshape_lay)\n",
    "dec_hid_lay2 = keras.layers.Conv1DTranspose(4, 3, strides=1,\n",
    "                                            activation=\"relu\", padding=\"same\")(dec_hid_lay1)\n",
    "\n",
    "# Ouput layer (same size as input layer)\n",
    "out_layer = keras.layers.Conv1D(1, 1, activation=\"sigmoid\", padding=\"same\")(dec_hid_lay2)\n",
    "\n",
    "# Create model\n",
    "model = keras.models.Model(inputs=in_layer, outputs=out_layer)\n",
    "\n",
    "# Compile the model. Use the Mean Squred Error as the loss function. Background: An Autoencoder is\n",
    "# a regression function that maps the input value directly to the output values\n",
    "model.compile(optimizer='adam', loss='mse')\n",
    "\n",
    "# Show summary\n",
    "model.summary()"
   ]
  },
  {
   "cell_type": "code",
   "execution_count": 9,
   "id": "2ca843b1-e07a-4f84-9869-7cb8e9fcaa97",
   "metadata": {},
   "outputs": [
    {
     "data": {
      "application/vnd.jupyter.widget-view+json": {
       "model_id": "1f1b895210da4a9db5f254bb90e7017c",
       "version_major": 2,
       "version_minor": 0
      },
      "text/plain": [
       "0epoch [00:00, ?epoch/s]"
      ]
     },
     "metadata": {},
     "output_type": "display_data"
    },
    {
     "data": {
      "application/vnd.jupyter.widget-view+json": {
       "model_id": "be73389980fa4d1ea68e1db8b835ee08",
       "version_major": 2,
       "version_minor": 0
      },
      "text/plain": [
       "  0%|          | 0.00/34.0 [00:00<?, ?batch/s]"
      ]
     },
     "metadata": {},
     "output_type": "display_data"
    },
    {
     "data": {
      "application/vnd.jupyter.widget-view+json": {
       "model_id": "f1ca6f232427439f8f4133f4517d0e01",
       "version_major": 2,
       "version_minor": 0
      },
      "text/plain": [
       "  0%|          | 0.00/34.0 [00:00<?, ?batch/s]"
      ]
     },
     "metadata": {},
     "output_type": "display_data"
    },
    {
     "data": {
      "application/vnd.jupyter.widget-view+json": {
       "model_id": "d77bf1aeb67748c98cc30938707d888e",
       "version_major": 2,
       "version_minor": 0
      },
      "text/plain": [
       "  0%|          | 0.00/34.0 [00:00<?, ?batch/s]"
      ]
     },
     "metadata": {},
     "output_type": "display_data"
    },
    {
     "data": {
      "application/vnd.jupyter.widget-view+json": {
       "model_id": "df09956fc8e54970b1e7a6048611d75a",
       "version_major": 2,
       "version_minor": 0
      },
      "text/plain": [
       "  0%|          | 0.00/34.0 [00:00<?, ?batch/s]"
      ]
     },
     "metadata": {},
     "output_type": "display_data"
    },
    {
     "data": {
      "application/vnd.jupyter.widget-view+json": {
       "model_id": "2147bdedffb04fc29ef52f7a45c54716",
       "version_major": 2,
       "version_minor": 0
      },
      "text/plain": [
       "  0%|          | 0.00/34.0 [00:00<?, ?batch/s]"
      ]
     },
     "metadata": {},
     "output_type": "display_data"
    },
    {
     "data": {
      "application/vnd.jupyter.widget-view+json": {
       "model_id": "32bf1335feca4cf4a9db7e35933755fe",
       "version_major": 2,
       "version_minor": 0
      },
      "text/plain": [
       "  0%|          | 0.00/34.0 [00:00<?, ?batch/s]"
      ]
     },
     "metadata": {},
     "output_type": "display_data"
    },
    {
     "data": {
      "application/vnd.jupyter.widget-view+json": {
       "model_id": "1f8eb15ea180490c8690ee4e4d476c63",
       "version_major": 2,
       "version_minor": 0
      },
      "text/plain": [
       "  0%|          | 0.00/34.0 [00:00<?, ?batch/s]"
      ]
     },
     "metadata": {},
     "output_type": "display_data"
    },
    {
     "data": {
      "application/vnd.jupyter.widget-view+json": {
       "model_id": "787d2d127fc1463c9ecffbd29ea4b768",
       "version_major": 2,
       "version_minor": 0
      },
      "text/plain": [
       "  0%|          | 0.00/34.0 [00:00<?, ?batch/s]"
      ]
     },
     "metadata": {},
     "output_type": "display_data"
    },
    {
     "data": {
      "application/vnd.jupyter.widget-view+json": {
       "model_id": "321521ba0ecf4503be511e1f456a4e8c",
       "version_major": 2,
       "version_minor": 0
      },
      "text/plain": [
       "  0%|          | 0.00/34.0 [00:00<?, ?batch/s]"
      ]
     },
     "metadata": {},
     "output_type": "display_data"
    },
    {
     "data": {
      "application/vnd.jupyter.widget-view+json": {
       "model_id": "ca5e6020be4540ed844e91bb29d08a54",
       "version_major": 2,
       "version_minor": 0
      },
      "text/plain": [
       "  0%|          | 0.00/34.0 [00:00<?, ?batch/s]"
      ]
     },
     "metadata": {},
     "output_type": "display_data"
    },
    {
     "data": {
      "application/vnd.jupyter.widget-view+json": {
       "model_id": "c4dd9c0bdc1547fab1403c14a91577e4",
       "version_major": 2,
       "version_minor": 0
      },
      "text/plain": [
       "  0%|          | 0.00/34.0 [00:00<?, ?batch/s]"
      ]
     },
     "metadata": {},
     "output_type": "display_data"
    },
    {
     "data": {
      "application/vnd.jupyter.widget-view+json": {
       "model_id": "2ec5b69dd16648beb833e30c1e98f725",
       "version_major": 2,
       "version_minor": 0
      },
      "text/plain": [
       "  0%|          | 0.00/34.0 [00:00<?, ?batch/s]"
      ]
     },
     "metadata": {},
     "output_type": "display_data"
    },
    {
     "data": {
      "application/vnd.jupyter.widget-view+json": {
       "model_id": "a4f9df306ae3420380c8bfdaacc15143",
       "version_major": 2,
       "version_minor": 0
      },
      "text/plain": [
       "  0%|          | 0.00/34.0 [00:00<?, ?batch/s]"
      ]
     },
     "metadata": {},
     "output_type": "display_data"
    },
    {
     "data": {
      "application/vnd.jupyter.widget-view+json": {
       "model_id": "1775a61c545c44bdb4684f0abd31e22d",
       "version_major": 2,
       "version_minor": 0
      },
      "text/plain": [
       "  0%|          | 0.00/34.0 [00:00<?, ?batch/s]"
      ]
     },
     "metadata": {},
     "output_type": "display_data"
    },
    {
     "data": {
      "application/vnd.jupyter.widget-view+json": {
       "model_id": "19c1f15998d64f43887f1c38a4cb6ee2",
       "version_major": 2,
       "version_minor": 0
      },
      "text/plain": [
       "  0%|          | 0.00/34.0 [00:00<?, ?batch/s]"
      ]
     },
     "metadata": {},
     "output_type": "display_data"
    },
    {
     "data": {
      "application/vnd.jupyter.widget-view+json": {
       "model_id": "f6508ea8582f4095838f6488de94d7cf",
       "version_major": 2,
       "version_minor": 0
      },
      "text/plain": [
       "  0%|          | 0.00/34.0 [00:00<?, ?batch/s]"
      ]
     },
     "metadata": {},
     "output_type": "display_data"
    },
    {
     "data": {
      "application/vnd.jupyter.widget-view+json": {
       "model_id": "9da909098c1e4bb2a97fd930584abda0",
       "version_major": 2,
       "version_minor": 0
      },
      "text/plain": [
       "  0%|          | 0.00/34.0 [00:00<?, ?batch/s]"
      ]
     },
     "metadata": {},
     "output_type": "display_data"
    },
    {
     "data": {
      "application/vnd.jupyter.widget-view+json": {
       "model_id": "0cdb96223739498d989fa89053e0bb95",
       "version_major": 2,
       "version_minor": 0
      },
      "text/plain": [
       "  0%|          | 0.00/34.0 [00:00<?, ?batch/s]"
      ]
     },
     "metadata": {},
     "output_type": "display_data"
    },
    {
     "data": {
      "application/vnd.jupyter.widget-view+json": {
       "model_id": "4f4efd5281fb469480c1437e19b58735",
       "version_major": 2,
       "version_minor": 0
      },
      "text/plain": [
       "  0%|          | 0.00/34.0 [00:00<?, ?batch/s]"
      ]
     },
     "metadata": {},
     "output_type": "display_data"
    },
    {
     "data": {
      "application/vnd.jupyter.widget-view+json": {
       "model_id": "c1590ce380054b88a7b1608abdf4a86a",
       "version_major": 2,
       "version_minor": 0
      },
      "text/plain": [
       "  0%|          | 0.00/34.0 [00:00<?, ?batch/s]"
      ]
     },
     "metadata": {},
     "output_type": "display_data"
    },
    {
     "data": {
      "application/vnd.jupyter.widget-view+json": {
       "model_id": "a830063d9a024c62a6872017fa91fa9c",
       "version_major": 2,
       "version_minor": 0
      },
      "text/plain": [
       "  0%|          | 0.00/34.0 [00:00<?, ?batch/s]"
      ]
     },
     "metadata": {},
     "output_type": "display_data"
    },
    {
     "data": {
      "application/vnd.jupyter.widget-view+json": {
       "model_id": "b546a3e6657d46dfb2fd5addf4a9c895",
       "version_major": 2,
       "version_minor": 0
      },
      "text/plain": [
       "  0%|          | 0.00/34.0 [00:00<?, ?batch/s]"
      ]
     },
     "metadata": {},
     "output_type": "display_data"
    },
    {
     "data": {
      "application/vnd.jupyter.widget-view+json": {
       "model_id": "459b2044f3fa4553a513efa4b03bfc13",
       "version_major": 2,
       "version_minor": 0
      },
      "text/plain": [
       "  0%|          | 0.00/34.0 [00:00<?, ?batch/s]"
      ]
     },
     "metadata": {},
     "output_type": "display_data"
    },
    {
     "data": {
      "application/vnd.jupyter.widget-view+json": {
       "model_id": "73c2d4c6e83142da93dee9395933b9d6",
       "version_major": 2,
       "version_minor": 0
      },
      "text/plain": [
       "  0%|          | 0.00/34.0 [00:00<?, ?batch/s]"
      ]
     },
     "metadata": {},
     "output_type": "display_data"
    },
    {
     "data": {
      "application/vnd.jupyter.widget-view+json": {
       "model_id": "6deccbee6a6f407da73304dc729c7135",
       "version_major": 2,
       "version_minor": 0
      },
      "text/plain": [
       "  0%|          | 0.00/34.0 [00:00<?, ?batch/s]"
      ]
     },
     "metadata": {},
     "output_type": "display_data"
    },
    {
     "data": {
      "application/vnd.jupyter.widget-view+json": {
       "model_id": "8214744a062a480185493a7185336f4f",
       "version_major": 2,
       "version_minor": 0
      },
      "text/plain": [
       "  0%|          | 0.00/34.0 [00:00<?, ?batch/s]"
      ]
     },
     "metadata": {},
     "output_type": "display_data"
    },
    {
     "data": {
      "application/vnd.jupyter.widget-view+json": {
       "model_id": "cd398dd5af354e09a70a82968b7f47f8",
       "version_major": 2,
       "version_minor": 0
      },
      "text/plain": [
       "  0%|          | 0.00/34.0 [00:00<?, ?batch/s]"
      ]
     },
     "metadata": {},
     "output_type": "display_data"
    },
    {
     "data": {
      "application/vnd.jupyter.widget-view+json": {
       "model_id": "726f1de203c14f2ab7c32477232ee807",
       "version_major": 2,
       "version_minor": 0
      },
      "text/plain": [
       "  0%|          | 0.00/34.0 [00:00<?, ?batch/s]"
      ]
     },
     "metadata": {},
     "output_type": "display_data"
    },
    {
     "data": {
      "application/vnd.jupyter.widget-view+json": {
       "model_id": "0696f3df2e524f44b165c7d5aaf038b2",
       "version_major": 2,
       "version_minor": 0
      },
      "text/plain": [
       "  0%|          | 0.00/34.0 [00:00<?, ?batch/s]"
      ]
     },
     "metadata": {},
     "output_type": "display_data"
    },
    {
     "data": {
      "application/vnd.jupyter.widget-view+json": {
       "model_id": "e3bb0cc1fa4f450281cd90401092d424",
       "version_major": 2,
       "version_minor": 0
      },
      "text/plain": [
       "  0%|          | 0.00/34.0 [00:00<?, ?batch/s]"
      ]
     },
     "metadata": {},
     "output_type": "display_data"
    },
    {
     "data": {
      "application/vnd.jupyter.widget-view+json": {
       "model_id": "45368cbc77124d4da4bb20e2e88df5d8",
       "version_major": 2,
       "version_minor": 0
      },
      "text/plain": [
       "  0%|          | 0.00/34.0 [00:00<?, ?batch/s]"
      ]
     },
     "metadata": {},
     "output_type": "display_data"
    },
    {
     "data": {
      "application/vnd.jupyter.widget-view+json": {
       "model_id": "ceb8dd2fa4a64c60a2bc9fc68f43ea76",
       "version_major": 2,
       "version_minor": 0
      },
      "text/plain": [
       "  0%|          | 0.00/34.0 [00:00<?, ?batch/s]"
      ]
     },
     "metadata": {},
     "output_type": "display_data"
    },
    {
     "data": {
      "application/vnd.jupyter.widget-view+json": {
       "model_id": "406a4fb8a7e84efa98877a91892d3f68",
       "version_major": 2,
       "version_minor": 0
      },
      "text/plain": [
       "  0%|          | 0.00/34.0 [00:00<?, ?batch/s]"
      ]
     },
     "metadata": {},
     "output_type": "display_data"
    },
    {
     "data": {
      "application/vnd.jupyter.widget-view+json": {
       "model_id": "441e0c4829a141a9a9bb43acc422ad8a",
       "version_major": 2,
       "version_minor": 0
      },
      "text/plain": [
       "  0%|          | 0.00/34.0 [00:00<?, ?batch/s]"
      ]
     },
     "metadata": {},
     "output_type": "display_data"
    },
    {
     "data": {
      "application/vnd.jupyter.widget-view+json": {
       "model_id": "57206ab968e540a6962661a5d3b40b46",
       "version_major": 2,
       "version_minor": 0
      },
      "text/plain": [
       "  0%|          | 0.00/34.0 [00:00<?, ?batch/s]"
      ]
     },
     "metadata": {},
     "output_type": "display_data"
    },
    {
     "data": {
      "application/vnd.jupyter.widget-view+json": {
       "model_id": "dc820c26c12a47c9a168232b22cb2a18",
       "version_major": 2,
       "version_minor": 0
      },
      "text/plain": [
       "  0%|          | 0.00/34.0 [00:00<?, ?batch/s]"
      ]
     },
     "metadata": {},
     "output_type": "display_data"
    },
    {
     "data": {
      "application/vnd.jupyter.widget-view+json": {
       "model_id": "0cfed7316f0048c693990ca1cc32ddd0",
       "version_major": 2,
       "version_minor": 0
      },
      "text/plain": [
       "  0%|          | 0.00/34.0 [00:00<?, ?batch/s]"
      ]
     },
     "metadata": {},
     "output_type": "display_data"
    },
    {
     "data": {
      "application/vnd.jupyter.widget-view+json": {
       "model_id": "b1679e9e281140b09b1c940341af0fcf",
       "version_major": 2,
       "version_minor": 0
      },
      "text/plain": [
       "  0%|          | 0.00/34.0 [00:00<?, ?batch/s]"
      ]
     },
     "metadata": {},
     "output_type": "display_data"
    },
    {
     "data": {
      "application/vnd.jupyter.widget-view+json": {
       "model_id": "32ae67d7f2d44fc198f09ac88af6eb7d",
       "version_major": 2,
       "version_minor": 0
      },
      "text/plain": [
       "  0%|          | 0.00/34.0 [00:00<?, ?batch/s]"
      ]
     },
     "metadata": {},
     "output_type": "display_data"
    },
    {
     "data": {
      "application/vnd.jupyter.widget-view+json": {
       "model_id": "7040cfd378c9411e9fa4834b228d727d",
       "version_major": 2,
       "version_minor": 0
      },
      "text/plain": [
       "  0%|          | 0.00/34.0 [00:00<?, ?batch/s]"
      ]
     },
     "metadata": {},
     "output_type": "display_data"
    },
    {
     "data": {
      "application/vnd.jupyter.widget-view+json": {
       "model_id": "066591df9cf24485a0311e81546ab97f",
       "version_major": 2,
       "version_minor": 0
      },
      "text/plain": [
       "  0%|          | 0.00/34.0 [00:00<?, ?batch/s]"
      ]
     },
     "metadata": {},
     "output_type": "display_data"
    },
    {
     "data": {
      "application/vnd.jupyter.widget-view+json": {
       "model_id": "aa54bed453524d3fa583c1944e8fa789",
       "version_major": 2,
       "version_minor": 0
      },
      "text/plain": [
       "  0%|          | 0.00/34.0 [00:00<?, ?batch/s]"
      ]
     },
     "metadata": {},
     "output_type": "display_data"
    },
    {
     "data": {
      "application/vnd.jupyter.widget-view+json": {
       "model_id": "9711fba97b1f469dae623cc8538e2822",
       "version_major": 2,
       "version_minor": 0
      },
      "text/plain": [
       "  0%|          | 0.00/34.0 [00:00<?, ?batch/s]"
      ]
     },
     "metadata": {},
     "output_type": "display_data"
    },
    {
     "data": {
      "application/vnd.jupyter.widget-view+json": {
       "model_id": "0e3c6e56bda643409bc2dba49379562c",
       "version_major": 2,
       "version_minor": 0
      },
      "text/plain": [
       "  0%|          | 0.00/34.0 [00:00<?, ?batch/s]"
      ]
     },
     "metadata": {},
     "output_type": "display_data"
    },
    {
     "data": {
      "application/vnd.jupyter.widget-view+json": {
       "model_id": "93e7caf84844469dbb84f8d69a3e954e",
       "version_major": 2,
       "version_minor": 0
      },
      "text/plain": [
       "  0%|          | 0.00/34.0 [00:00<?, ?batch/s]"
      ]
     },
     "metadata": {},
     "output_type": "display_data"
    },
    {
     "data": {
      "application/vnd.jupyter.widget-view+json": {
       "model_id": "034c973b66be48bea4bc4a350c5cca0c",
       "version_major": 2,
       "version_minor": 0
      },
      "text/plain": [
       "  0%|          | 0.00/34.0 [00:00<?, ?batch/s]"
      ]
     },
     "metadata": {},
     "output_type": "display_data"
    },
    {
     "data": {
      "application/vnd.jupyter.widget-view+json": {
       "model_id": "2b2c8c8f5c5749df8baca7248c9044f8",
       "version_major": 2,
       "version_minor": 0
      },
      "text/plain": [
       "  0%|          | 0.00/34.0 [00:00<?, ?batch/s]"
      ]
     },
     "metadata": {},
     "output_type": "display_data"
    },
    {
     "data": {
      "application/vnd.jupyter.widget-view+json": {
       "model_id": "a7581150a0c64757b8afe5dfd4ff6bb5",
       "version_major": 2,
       "version_minor": 0
      },
      "text/plain": [
       "  0%|          | 0.00/34.0 [00:00<?, ?batch/s]"
      ]
     },
     "metadata": {},
     "output_type": "display_data"
    },
    {
     "data": {
      "application/vnd.jupyter.widget-view+json": {
       "model_id": "7acbaef77f1d486aa6051f1a3c08a50e",
       "version_major": 2,
       "version_minor": 0
      },
      "text/plain": [
       "  0%|          | 0.00/34.0 [00:00<?, ?batch/s]"
      ]
     },
     "metadata": {},
     "output_type": "display_data"
    },
    {
     "data": {
      "application/vnd.jupyter.widget-view+json": {
       "model_id": "f9f03777ed30434ba277acd4d2b26497",
       "version_major": 2,
       "version_minor": 0
      },
      "text/plain": [
       "  0%|          | 0.00/34.0 [00:00<?, ?batch/s]"
      ]
     },
     "metadata": {},
     "output_type": "display_data"
    },
    {
     "data": {
      "application/vnd.jupyter.widget-view+json": {
       "model_id": "ad04dc8c587044f48d5805ab4c671fc4",
       "version_major": 2,
       "version_minor": 0
      },
      "text/plain": [
       "  0%|          | 0.00/34.0 [00:00<?, ?batch/s]"
      ]
     },
     "metadata": {},
     "output_type": "display_data"
    },
    {
     "data": {
      "application/vnd.jupyter.widget-view+json": {
       "model_id": "200f3b4c54784c61b8c0ded4133a77fe",
       "version_major": 2,
       "version_minor": 0
      },
      "text/plain": [
       "  0%|          | 0.00/34.0 [00:00<?, ?batch/s]"
      ]
     },
     "metadata": {},
     "output_type": "display_data"
    },
    {
     "data": {
      "application/vnd.jupyter.widget-view+json": {
       "model_id": "d76831acc67044328c4f9c7e97130bef",
       "version_major": 2,
       "version_minor": 0
      },
      "text/plain": [
       "  0%|          | 0.00/34.0 [00:00<?, ?batch/s]"
      ]
     },
     "metadata": {},
     "output_type": "display_data"
    },
    {
     "data": {
      "application/vnd.jupyter.widget-view+json": {
       "model_id": "185af3435d6b4473a85ed3a40ef5b65e",
       "version_major": 2,
       "version_minor": 0
      },
      "text/plain": [
       "  0%|          | 0.00/34.0 [00:00<?, ?batch/s]"
      ]
     },
     "metadata": {},
     "output_type": "display_data"
    },
    {
     "data": {
      "application/vnd.jupyter.widget-view+json": {
       "model_id": "74e0c46c0599482aa046bc7b5bfb2ac0",
       "version_major": 2,
       "version_minor": 0
      },
      "text/plain": [
       "  0%|          | 0.00/34.0 [00:00<?, ?batch/s]"
      ]
     },
     "metadata": {},
     "output_type": "display_data"
    },
    {
     "data": {
      "application/vnd.jupyter.widget-view+json": {
       "model_id": "d3b6cdf6b8fa44cfaadde7b7eea090f5",
       "version_major": 2,
       "version_minor": 0
      },
      "text/plain": [
       "  0%|          | 0.00/34.0 [00:00<?, ?batch/s]"
      ]
     },
     "metadata": {},
     "output_type": "display_data"
    },
    {
     "data": {
      "application/vnd.jupyter.widget-view+json": {
       "model_id": "4f61c473fc1f4dcebf5b39ef6b07a28c",
       "version_major": 2,
       "version_minor": 0
      },
      "text/plain": [
       "  0%|          | 0.00/34.0 [00:00<?, ?batch/s]"
      ]
     },
     "metadata": {},
     "output_type": "display_data"
    },
    {
     "data": {
      "application/vnd.jupyter.widget-view+json": {
       "model_id": "75004d6eefb44295bbbba8844d6d1014",
       "version_major": 2,
       "version_minor": 0
      },
      "text/plain": [
       "  0%|          | 0.00/34.0 [00:00<?, ?batch/s]"
      ]
     },
     "metadata": {},
     "output_type": "display_data"
    },
    {
     "data": {
      "application/vnd.jupyter.widget-view+json": {
       "model_id": "1126a89958294b9abe868d8d2562eb9a",
       "version_major": 2,
       "version_minor": 0
      },
      "text/plain": [
       "  0%|          | 0.00/34.0 [00:00<?, ?batch/s]"
      ]
     },
     "metadata": {},
     "output_type": "display_data"
    },
    {
     "data": {
      "application/vnd.jupyter.widget-view+json": {
       "model_id": "a3e06b97b5c14b4f82863c5dc01580b6",
       "version_major": 2,
       "version_minor": 0
      },
      "text/plain": [
       "  0%|          | 0.00/34.0 [00:00<?, ?batch/s]"
      ]
     },
     "metadata": {},
     "output_type": "display_data"
    },
    {
     "data": {
      "application/vnd.jupyter.widget-view+json": {
       "model_id": "14b99e229141410e8eeb41ba5fd064d4",
       "version_major": 2,
       "version_minor": 0
      },
      "text/plain": [
       "  0%|          | 0.00/34.0 [00:00<?, ?batch/s]"
      ]
     },
     "metadata": {},
     "output_type": "display_data"
    },
    {
     "data": {
      "application/vnd.jupyter.widget-view+json": {
       "model_id": "e1a0022fc84a403a87fa4a382078e479",
       "version_major": 2,
       "version_minor": 0
      },
      "text/plain": [
       "  0%|          | 0.00/34.0 [00:00<?, ?batch/s]"
      ]
     },
     "metadata": {},
     "output_type": "display_data"
    },
    {
     "data": {
      "application/vnd.jupyter.widget-view+json": {
       "model_id": "d51754194bd34764a1c881fc75d9c70b",
       "version_major": 2,
       "version_minor": 0
      },
      "text/plain": [
       "  0%|          | 0.00/34.0 [00:00<?, ?batch/s]"
      ]
     },
     "metadata": {},
     "output_type": "display_data"
    },
    {
     "data": {
      "application/vnd.jupyter.widget-view+json": {
       "model_id": "ce60663e26294f3eb2c2c7183f8cd677",
       "version_major": 2,
       "version_minor": 0
      },
      "text/plain": [
       "  0%|          | 0.00/34.0 [00:00<?, ?batch/s]"
      ]
     },
     "metadata": {},
     "output_type": "display_data"
    },
    {
     "data": {
      "application/vnd.jupyter.widget-view+json": {
       "model_id": "69f04c25dac146928d0753eb5301e88e",
       "version_major": 2,
       "version_minor": 0
      },
      "text/plain": [
       "  0%|          | 0.00/34.0 [00:00<?, ?batch/s]"
      ]
     },
     "metadata": {},
     "output_type": "display_data"
    },
    {
     "data": {
      "application/vnd.jupyter.widget-view+json": {
       "model_id": "d300ba4197054822a0c267dc18217f6b",
       "version_major": 2,
       "version_minor": 0
      },
      "text/plain": [
       "  0%|          | 0.00/34.0 [00:00<?, ?batch/s]"
      ]
     },
     "metadata": {},
     "output_type": "display_data"
    },
    {
     "data": {
      "application/vnd.jupyter.widget-view+json": {
       "model_id": "8c6e8d5ffa9440aebe653118389b0794",
       "version_major": 2,
       "version_minor": 0
      },
      "text/plain": [
       "  0%|          | 0.00/34.0 [00:00<?, ?batch/s]"
      ]
     },
     "metadata": {},
     "output_type": "display_data"
    },
    {
     "data": {
      "application/vnd.jupyter.widget-view+json": {
       "model_id": "4e4192e06ad44dd9bce4c2a2f4d7da99",
       "version_major": 2,
       "version_minor": 0
      },
      "text/plain": [
       "  0%|          | 0.00/34.0 [00:00<?, ?batch/s]"
      ]
     },
     "metadata": {},
     "output_type": "display_data"
    },
    {
     "data": {
      "application/vnd.jupyter.widget-view+json": {
       "model_id": "e03f95b2f8554fb29f78f558b086dff4",
       "version_major": 2,
       "version_minor": 0
      },
      "text/plain": [
       "  0%|          | 0.00/34.0 [00:00<?, ?batch/s]"
      ]
     },
     "metadata": {},
     "output_type": "display_data"
    },
    {
     "data": {
      "application/vnd.jupyter.widget-view+json": {
       "model_id": "ada407246a654018aee78d8787ab9a28",
       "version_major": 2,
       "version_minor": 0
      },
      "text/plain": [
       "  0%|          | 0.00/34.0 [00:00<?, ?batch/s]"
      ]
     },
     "metadata": {},
     "output_type": "display_data"
    },
    {
     "data": {
      "application/vnd.jupyter.widget-view+json": {
       "model_id": "fdafd0feaec1462db96cbede4809b034",
       "version_major": 2,
       "version_minor": 0
      },
      "text/plain": [
       "  0%|          | 0.00/34.0 [00:00<?, ?batch/s]"
      ]
     },
     "metadata": {},
     "output_type": "display_data"
    },
    {
     "data": {
      "application/vnd.jupyter.widget-view+json": {
       "model_id": "1fdd80a610f34230a05ffd7e736df654",
       "version_major": 2,
       "version_minor": 0
      },
      "text/plain": [
       "  0%|          | 0.00/34.0 [00:00<?, ?batch/s]"
      ]
     },
     "metadata": {},
     "output_type": "display_data"
    },
    {
     "data": {
      "application/vnd.jupyter.widget-view+json": {
       "model_id": "b4b1a6227a7448a6937869d7afd87319",
       "version_major": 2,
       "version_minor": 0
      },
      "text/plain": [
       "  0%|          | 0.00/34.0 [00:00<?, ?batch/s]"
      ]
     },
     "metadata": {},
     "output_type": "display_data"
    },
    {
     "data": {
      "application/vnd.jupyter.widget-view+json": {
       "model_id": "0402407537b14f8fb4d0dacf803f2873",
       "version_major": 2,
       "version_minor": 0
      },
      "text/plain": [
       "  0%|          | 0.00/34.0 [00:00<?, ?batch/s]"
      ]
     },
     "metadata": {},
     "output_type": "display_data"
    },
    {
     "data": {
      "application/vnd.jupyter.widget-view+json": {
       "model_id": "dc0ff6188be14e9e98fcd3aa8491612b",
       "version_major": 2,
       "version_minor": 0
      },
      "text/plain": [
       "  0%|          | 0.00/34.0 [00:00<?, ?batch/s]"
      ]
     },
     "metadata": {},
     "output_type": "display_data"
    },
    {
     "data": {
      "application/vnd.jupyter.widget-view+json": {
       "model_id": "d657c3d9d00045e689b26d56b38c3907",
       "version_major": 2,
       "version_minor": 0
      },
      "text/plain": [
       "  0%|          | 0.00/34.0 [00:00<?, ?batch/s]"
      ]
     },
     "metadata": {},
     "output_type": "display_data"
    },
    {
     "data": {
      "application/vnd.jupyter.widget-view+json": {
       "model_id": "7d43bb8059254d0bbaace19738240285",
       "version_major": 2,
       "version_minor": 0
      },
      "text/plain": [
       "  0%|          | 0.00/34.0 [00:00<?, ?batch/s]"
      ]
     },
     "metadata": {},
     "output_type": "display_data"
    },
    {
     "data": {
      "application/vnd.jupyter.widget-view+json": {
       "model_id": "55aaf2a5115341ff912fe77b2632276f",
       "version_major": 2,
       "version_minor": 0
      },
      "text/plain": [
       "  0%|          | 0.00/34.0 [00:00<?, ?batch/s]"
      ]
     },
     "metadata": {},
     "output_type": "display_data"
    },
    {
     "data": {
      "application/vnd.jupyter.widget-view+json": {
       "model_id": "e56fe08b29274a9c94c8661c486db88a",
       "version_major": 2,
       "version_minor": 0
      },
      "text/plain": [
       "  0%|          | 0.00/34.0 [00:00<?, ?batch/s]"
      ]
     },
     "metadata": {},
     "output_type": "display_data"
    },
    {
     "data": {
      "application/vnd.jupyter.widget-view+json": {
       "model_id": "35a0fe2074e64a30994b5c1f44d10810",
       "version_major": 2,
       "version_minor": 0
      },
      "text/plain": [
       "  0%|          | 0.00/34.0 [00:00<?, ?batch/s]"
      ]
     },
     "metadata": {},
     "output_type": "display_data"
    },
    {
     "data": {
      "application/vnd.jupyter.widget-view+json": {
       "model_id": "9589019e809d44098d280d836b211fd3",
       "version_major": 2,
       "version_minor": 0
      },
      "text/plain": [
       "  0%|          | 0.00/34.0 [00:00<?, ?batch/s]"
      ]
     },
     "metadata": {},
     "output_type": "display_data"
    },
    {
     "data": {
      "application/vnd.jupyter.widget-view+json": {
       "model_id": "b4e795369faf49b2aeffe38b5690dc5c",
       "version_major": 2,
       "version_minor": 0
      },
      "text/plain": [
       "  0%|          | 0.00/34.0 [00:00<?, ?batch/s]"
      ]
     },
     "metadata": {},
     "output_type": "display_data"
    },
    {
     "data": {
      "application/vnd.jupyter.widget-view+json": {
       "model_id": "33f15b90d5624c558254a298b03e2559",
       "version_major": 2,
       "version_minor": 0
      },
      "text/plain": [
       "  0%|          | 0.00/34.0 [00:00<?, ?batch/s]"
      ]
     },
     "metadata": {},
     "output_type": "display_data"
    },
    {
     "data": {
      "application/vnd.jupyter.widget-view+json": {
       "model_id": "cc6988315c544cf0a4fa52c2b988fe33",
       "version_major": 2,
       "version_minor": 0
      },
      "text/plain": [
       "  0%|          | 0.00/34.0 [00:00<?, ?batch/s]"
      ]
     },
     "metadata": {},
     "output_type": "display_data"
    },
    {
     "data": {
      "application/vnd.jupyter.widget-view+json": {
       "model_id": "7a26f02bda764f78b0de4c35f4c917f9",
       "version_major": 2,
       "version_minor": 0
      },
      "text/plain": [
       "  0%|          | 0.00/34.0 [00:00<?, ?batch/s]"
      ]
     },
     "metadata": {},
     "output_type": "display_data"
    },
    {
     "data": {
      "application/vnd.jupyter.widget-view+json": {
       "model_id": "0155bf5b8af5409ea40eab28445df65a",
       "version_major": 2,
       "version_minor": 0
      },
      "text/plain": [
       "  0%|          | 0.00/34.0 [00:00<?, ?batch/s]"
      ]
     },
     "metadata": {},
     "output_type": "display_data"
    },
    {
     "data": {
      "application/vnd.jupyter.widget-view+json": {
       "model_id": "72fb0f7bb484498fbc85512d8f776b4f",
       "version_major": 2,
       "version_minor": 0
      },
      "text/plain": [
       "  0%|          | 0.00/34.0 [00:00<?, ?batch/s]"
      ]
     },
     "metadata": {},
     "output_type": "display_data"
    },
    {
     "data": {
      "application/vnd.jupyter.widget-view+json": {
       "model_id": "6fe94cfd0c0f4fb7ae438411904814d0",
       "version_major": 2,
       "version_minor": 0
      },
      "text/plain": [
       "  0%|          | 0.00/34.0 [00:00<?, ?batch/s]"
      ]
     },
     "metadata": {},
     "output_type": "display_data"
    },
    {
     "data": {
      "application/vnd.jupyter.widget-view+json": {
       "model_id": "3abcdaadbedb4e1b8454a953305aaf8f",
       "version_major": 2,
       "version_minor": 0
      },
      "text/plain": [
       "  0%|          | 0.00/34.0 [00:00<?, ?batch/s]"
      ]
     },
     "metadata": {},
     "output_type": "display_data"
    },
    {
     "data": {
      "application/vnd.jupyter.widget-view+json": {
       "model_id": "796e74172e1342778b78f6120daa3d5e",
       "version_major": 2,
       "version_minor": 0
      },
      "text/plain": [
       "  0%|          | 0.00/34.0 [00:00<?, ?batch/s]"
      ]
     },
     "metadata": {},
     "output_type": "display_data"
    },
    {
     "data": {
      "application/vnd.jupyter.widget-view+json": {
       "model_id": "2346161565ac4bcaaf559bd16469ad1c",
       "version_major": 2,
       "version_minor": 0
      },
      "text/plain": [
       "  0%|          | 0.00/34.0 [00:00<?, ?batch/s]"
      ]
     },
     "metadata": {},
     "output_type": "display_data"
    },
    {
     "data": {
      "application/vnd.jupyter.widget-view+json": {
       "model_id": "61a41e5ecd40452584440e457f71c1a7",
       "version_major": 2,
       "version_minor": 0
      },
      "text/plain": [
       "  0%|          | 0.00/34.0 [00:00<?, ?batch/s]"
      ]
     },
     "metadata": {},
     "output_type": "display_data"
    },
    {
     "data": {
      "application/vnd.jupyter.widget-view+json": {
       "model_id": "071d63c53b314751a8e360b2d7d878ac",
       "version_major": 2,
       "version_minor": 0
      },
      "text/plain": [
       "  0%|          | 0.00/34.0 [00:00<?, ?batch/s]"
      ]
     },
     "metadata": {},
     "output_type": "display_data"
    },
    {
     "data": {
      "application/vnd.jupyter.widget-view+json": {
       "model_id": "9a72e963c9514c3cb9eb34cc4c008fc9",
       "version_major": 2,
       "version_minor": 0
      },
      "text/plain": [
       "  0%|          | 0.00/34.0 [00:00<?, ?batch/s]"
      ]
     },
     "metadata": {},
     "output_type": "display_data"
    },
    {
     "data": {
      "application/vnd.jupyter.widget-view+json": {
       "model_id": "e0518eb5fd034b9ab073ec34499abcbe",
       "version_major": 2,
       "version_minor": 0
      },
      "text/plain": [
       "  0%|          | 0.00/34.0 [00:00<?, ?batch/s]"
      ]
     },
     "metadata": {},
     "output_type": "display_data"
    },
    {
     "data": {
      "application/vnd.jupyter.widget-view+json": {
       "model_id": "cdd60ffa0db948e688fbdfb944f733f5",
       "version_major": 2,
       "version_minor": 0
      },
      "text/plain": [
       "  0%|          | 0.00/34.0 [00:00<?, ?batch/s]"
      ]
     },
     "metadata": {},
     "output_type": "display_data"
    },
    {
     "data": {
      "application/vnd.jupyter.widget-view+json": {
       "model_id": "e6b585ec9e744a048d76c168dede2724",
       "version_major": 2,
       "version_minor": 0
      },
      "text/plain": [
       "  0%|          | 0.00/34.0 [00:00<?, ?batch/s]"
      ]
     },
     "metadata": {},
     "output_type": "display_data"
    },
    {
     "data": {
      "application/vnd.jupyter.widget-view+json": {
       "model_id": "d76abcd1cf884e9aac4168ac61cdb179",
       "version_major": 2,
       "version_minor": 0
      },
      "text/plain": [
       "  0%|          | 0.00/34.0 [00:00<?, ?batch/s]"
      ]
     },
     "metadata": {},
     "output_type": "display_data"
    },
    {
     "data": {
      "application/vnd.jupyter.widget-view+json": {
       "model_id": "f25d92ecf84040d2b345e0b1a7063c9d",
       "version_major": 2,
       "version_minor": 0
      },
      "text/plain": [
       "  0%|          | 0.00/34.0 [00:00<?, ?batch/s]"
      ]
     },
     "metadata": {},
     "output_type": "display_data"
    },
    {
     "data": {
      "application/vnd.jupyter.widget-view+json": {
       "model_id": "550b182896474e8dad5682c090e5a871",
       "version_major": 2,
       "version_minor": 0
      },
      "text/plain": [
       "  0%|          | 0.00/34.0 [00:00<?, ?batch/s]"
      ]
     },
     "metadata": {},
     "output_type": "display_data"
    }
   ],
   "source": [
    "# Train the model\n",
    "end_epoch = 100\n",
    "batch_size = 32\n",
    "history = model.fit(X_train_scaled, X_train_scaled,\n",
    "                    epochs=end_epoch,\n",
    "                    batch_size=batch_size,\n",
    "                    verbose=0,\n",
    "                    validation_data=(X_test_scaled, X_test_scaled),\n",
    "                    callbacks=[TqdmCallback(verbose=2)])"
   ]
  },
  {
   "cell_type": "markdown",
   "id": "6f777c18-5ad6-4099-af57-5dae7a2dabd4",
   "metadata": {},
   "source": [
    "## The loss function\n",
    "\n",
    "Let's show the loss of the training and test data. As you can see, the minimum-plateau is reached quite fast. The test data performs slightly better than the training data, since the loss results for the training data are based on an average of the batch size. The test results are based on all data."
   ]
  },
  {
   "cell_type": "code",
   "execution_count": 10,
   "id": "6434731b-7e67-4b22-ba7a-782b56ffca56",
   "metadata": {},
   "outputs": [
    {
     "data": {
      "image/png": "[encoded data removed]",
      "text/plain": [
       "<Figure size 720x576 with 1 Axes>"
      ]
     },
     "metadata": {},
     "output_type": "display_data"
    }
   ],
   "source": [
    "# plot the training and validation loss\n",
    "plt.figure(figsize=(10,8))\n",
    "plt.plot(history.history['loss'], label='train')\n",
    "plt.plot(history.history['val_loss'], label='test')\n",
    "\n",
    "# Add legend and labels\n",
    "plt.legend()\n",
    "plt.xlabel(\"Epoch\")\n",
    "plt.ylabel(\"MSE Loss\")\n",
    "\n",
    "# Limit the x axis\n",
    "plt.xlim(0, end_epoch)\n",
    "\n",
    "# ... aaaaand plot!\n",
    "plt.show()"
   ]
  },
  {
   "cell_type": "markdown",
   "id": "44548c22-503d-4bfa-afde-607ce1dbf912",
   "metadata": {},
   "source": [
    "## Signal Reconstruction\n",
    "\n",
    "... can be done by using the entire model to predict the output spectra. The following code snippet takes a signal (change the index value in the first line to use any other signal) and predicts the Autoencoder based spectrum.\n",
    "\n",
    "As one can see, the results are \"quite ok\" but far from perfect. The shape of the spectra can be reproduced. However, the signals are quite noisy. The question is now: Do we have a low-dimensional clustering?"
   ]
  },
  {
   "cell_type": "code",
   "execution_count": 11,
   "id": "9e2bd0ef-eaf5-4aa6-843c-6792ecb10e68",
   "metadata": {},
   "outputs": [
    {
     "data": {
      "image/png": "[encoded data removed]",
      "text/plain": [
       "<Figure size 864x360 with 1 Axes>"
      ]
     },
     "metadata": {},
     "output_type": "display_data"
    }
   ],
   "source": [
    "# Which index shall be displayed?\n",
    "index_val = 100\n",
    "\n",
    "# plot the training and reconstructed data\n",
    "plt.figure(figsize=(12,5))\n",
    "plt.plot(X_train_scaled[index_val], label='Original')\n",
    "plt.plot(model.predict(X_train_scaled)[index_val], label='Reconstructed')\n",
    "\n",
    "# Add legend and labels\n",
    "plt.legend()\n",
    "plt.xlabel(\"Spectra: array index\")\n",
    "plt.ylabel(\"Normalized Reflectance\")\n",
    "\n",
    "# ... aaaaand plot!\n",
    "plt.show()"
   ]
  },
  {
   "cell_type": "code",
   "execution_count": 12,
   "id": "a4bc5abb-8059-4ff8-a4e3-cf4b549c9102",
   "metadata": {},
   "outputs": [],
   "source": [
    "# Create dataframe that contains the encoder values (2 values at bottleneck) and the corresponding\n",
    "# class to see whether the autoencoder values cluster in a way\n",
    "\n",
    "# Build the encoder\n",
    "encoder = keras.models.Model(inputs=in_layer, outputs=bottleneck_lay)\n",
    "\n",
    "# Encode the trained spectra\n",
    "X_train_encoded = encoder.predict(X_train_scaled)\n",
    "\n",
    "# Create the dataframe\n",
    "encoded_train_df = pd.DataFrame(np.hstack((X_train_encoded,\n",
    "                                           y_train[np.newaxis].transpose(),\n",
    "                                           y_train_bus[np.newaxis].transpose())),\n",
    "                                columns=[\"enc1\", \"enc2\", \"Main_Group\", \"Bus_Class\"])\n",
    "\n",
    "# Change the dtype to float\n",
    "encoded_train_df.loc[:, \"enc1\"] = encoded_train_df[\"enc1\"].astype(float)\n",
    "encoded_train_df.loc[:, \"enc2\"] = encoded_train_df[\"enc2\"].astype(float)"
   ]
  },
  {
   "cell_type": "markdown",
   "id": "8af3c45b-af1f-42d6-b6ee-a5a63289230c",
   "metadata": {},
   "source": [
    "## Low Dimensional Space\n",
    "\n",
    "Now let's take a look at the 2D Autoencoder space. The main group classes are colored and afterwards plotted. One can see that the C and S class can be distinguished well. The C Class shows also local clusters that would be investigated further. The group \"other\" (outlier) are separated from the rest in two \"regions\" and the X class overlaps with the S and C class."
   ]
  },
  {
   "cell_type": "code",
   "execution_count": 13,
   "id": "908606de-cb83-42f5-a721-bd8356e0ffa5",
   "metadata": {},
   "outputs": [
    {
     "data": {
      "image/png": "[encoded data removed]",
      "text/plain": [
       "<Figure size 864x576 with 1 Axes>"
      ]
     },
     "metadata": {},
     "output_type": "display_data"
    }
   ],
   "source": [
    "# Plot now the autoencoder values for the Main Group\n",
    "\n",
    "# Create a dictionary to color the classes\n",
    "color_dict = {'Other': 'w',\n",
    "              'S': 'tab:orange',\n",
    "              'C': 'tab:green',\n",
    "              'X': 'tab:blue'}\n",
    "\n",
    "# Set a plot\n",
    "plt.figure(figsize=(12,8))\n",
    "\n",
    "# Create a scatter plot with the encoder values and assign the colors to the corresponding classes\n",
    "plt.scatter(encoded_train_df[\"enc1\"],\n",
    "            encoded_train_df[\"enc2\"],\n",
    "            marker='o',\n",
    "            s=5,\n",
    "            alpha=0.7,\n",
    "            color=encoded_train_df.apply(lambda x: color_dict.get(x[\"Main_Group\"]), axis=1).values)\n",
    "\n",
    "# Set xlabels\n",
    "plt.xlabel(\"Encoding #1\")\n",
    "plt.ylabel(\"Encoding #2\")\n",
    "\n",
    "# Save the image and show it, too\n",
    "plt.savefig(\"asteroid_spectra_AE_ConvNet_2dim.png\")\n",
    "plt.show()"
   ]
  },
  {
   "cell_type": "code",
   "execution_count": 1,
   "id": "5bb9080e-fc87-44fe-a00c-8689f68c0dbe",
   "metadata": {},
   "outputs": [
    {
     "ename": "NameError",
     "evalue": "name 'encoded_train_df' is not defined",
     "output_type": "error",
     "traceback": [
      "\u001b[0;31m---------------------------------------------------------------------------\u001b[0m",
      "\u001b[0;31mNameError\u001b[0m                                 Traceback (most recent call last)",
      "\u001b[0;32m<ipython-input-1-c96aa5747390>\u001b[0m in \u001b[0;36m<module>\u001b[0;34m\u001b[0m\n\u001b[1;32m      4\u001b[0m \u001b[0;34m\u001b[0m\u001b[0m\n\u001b[1;32m      5\u001b[0m \u001b[0;31m# In our plot we will plot only the \"top 20\" Bus Classes (sorted by number)\u001b[0m\u001b[0;34m\u001b[0m\u001b[0;34m\u001b[0m\u001b[0;34m\u001b[0m\u001b[0m\n\u001b[0;32m----> 6\u001b[0;31m \u001b[0mtop_bus\u001b[0m \u001b[0;34m=\u001b[0m \u001b[0mencoded_train_df\u001b[0m\u001b[0;34m.\u001b[0m\u001b[0mgroupby\u001b[0m\u001b[0;34m(\u001b[0m\u001b[0;34m'Bus_Class'\u001b[0m\u001b[0;34m)\u001b[0m\u001b[0;34m[\u001b[0m\u001b[0;34m'Main_Group'\u001b[0m\u001b[0;34m]\u001b[0m\u001b[0;34m.\u001b[0m\u001b[0mcount\u001b[0m\u001b[0;34m(\u001b[0m\u001b[0;34m)\u001b[0m\u001b[0;34m.\u001b[0m\u001b[0mnlargest\u001b[0m\u001b[0;34m(\u001b[0m\u001b[0;36m20\u001b[0m\u001b[0;34m)\u001b[0m\u001b[0;34m\u001b[0m\u001b[0;34m\u001b[0m\u001b[0m\n\u001b[0m\u001b[1;32m      7\u001b[0m \u001b[0mbus_classes\u001b[0m \u001b[0;34m=\u001b[0m \u001b[0msorted\u001b[0m\u001b[0;34m(\u001b[0m\u001b[0mtop_bus\u001b[0m\u001b[0;34m.\u001b[0m\u001b[0mindex\u001b[0m\u001b[0;34m)\u001b[0m\u001b[0;34m\u001b[0m\u001b[0;34m\u001b[0m\u001b[0m\n\u001b[1;32m      8\u001b[0m \u001b[0;34m\u001b[0m\u001b[0m\n",
      "\u001b[0;31mNameError\u001b[0m: name 'encoded_train_df' is not defined"
     ]
    }
   ],
   "source": [
    "# Let's create now an interactive plot for the Bus Class! Do we see clusters in the Bus-Class\n",
    "# domain?\n",
    "%matplotlib inline\n",
    "\n",
    "# In our plot we will plot only the \"top 20\" Bus Classes (sorted by number)\n",
    "top_bus = encoded_train_df.groupby('Bus_Class')['Main_Group'].count().nlargest(20)\n",
    "bus_classes = sorted(top_bus.index)\n",
    "\n",
    "# Filter the dataframe\n",
    "encoded_train_df = encoded_train_df[encoded_train_df[\"Bus_Class\"].isin(top_bus.index)].copy()\n",
    "\n",
    "# Get a list of all Bus Classes\n",
    "bus_classes = sorted(encoded_train_df[\"Bus_Class\"].unique())\n",
    "\n",
    "# Create a Selection widget\n",
    "# Note: Press Shift or Cntrl (Windows) / CMD (MacOS) to choose multiple classes\n",
    "selector = ipywidgets.SelectMultiple(options = bus_classes,\n",
    "                                     value = [bus_classes[0]],\n",
    "                                     rows = 10,\n",
    "                                     description = 'Variables',\n",
    "                                     disabled = False)\n",
    "\n",
    "# Get the selected items\n",
    "output = ipywidgets.Output()\n",
    "display(selector)\n",
    "display(output)\n",
    "\n",
    "# Create a colormap, the colors and create a color dictionary\n",
    "cmap = plt.get_cmap('tab20')\n",
    "colors = cmap(np.linspace(0, 1, len(bus_classes)))\n",
    "for k, c in zip(bus_classes, colors):\n",
    "    color_dict[k] = c\n",
    "\n",
    "# Set the dark mode and the font size and style\n",
    "plt.style.use('dark_background')\n",
    "plt.rc('font', family='serif', size=18)\n",
    "\n",
    "# Set a function for the (interactive) plots\n",
    "def plot_encoding(widg):\n",
    "\n",
    "    # Get the selected choices\n",
    "    choices = widg['new']\n",
    "\n",
    "    # Filter the dataframe based on the selection\n",
    "    data = encoded_train_df.loc[encoded_train_df[\"Bus_Class\"].isin(choices)] if choices \\\n",
    "               else encoded_train_df\n",
    "    output.clear_output(wait=True)\n",
    "\n",
    "    with output:\n",
    "\n",
    "        # Create a \"wide screen figure\"\n",
    "        fig, ax = plt.subplots(figsize=(20,8))\n",
    "\n",
    "        # Plot the encoding values within a for loop to create easily a legend for each group\n",
    "        for bus_k in np.unique(data[\"Bus_Class\"]):\n",
    "\n",
    "            ax.scatter(data.loc[data[\"Bus_Class\"] == bus_k][\"enc1\"],\n",
    "                       data.loc[data[\"Bus_Class\"] == bus_k][\"enc2\"],\n",
    "                       marker = 'o',\n",
    "                       s = 15,\n",
    "                       alpha = 0.7,\n",
    "                       color = color_dict.get(bus_k),\n",
    "                       label = bus_k)\n",
    "\n",
    "        # Create the legend\n",
    "        ax.legend()\n",
    "\n",
    "        # Set labels\n",
    "        plt.xlabel(\"Encoding #1\")\n",
    "        plt.ylabel(\"Encoding #2\")\n",
    "\n",
    "        # Set limits\n",
    "        plt.xlim(np.min(encoded_train_df[\"enc1\"]), np.max(encoded_train_df[\"enc1\"]))\n",
    "        plt.ylim(np.min(encoded_train_df[\"enc2\"]), np.max(encoded_train_df[\"enc2\"]))\n",
    "\n",
    "        plt.show()\n",
    "\n",
    "# Create an interactive session!\n",
    "selector.observe(plot_encoding, names='value')"
   ]
  },
  {
   "cell_type": "markdown",
   "id": "00b7b73b-6a43-4e94-82ec-cb1c605423c4",
   "metadata": {},
   "source": [
    "## Summary & Outlook\n",
    "\n",
    "Further scientific work could focus on the encoding domain. E.g., one could increase the number of bottleneck layers to preserve information. Further, one could afterwards apply miscellaneous clustering algorithms (like GMM) in the encoding domain to determine the number of clusters, based on this purely un-supervised approach"
   ]
  }
 ],
 "metadata": {
  "kernelspec": {
   "display_name": "Python 3",
   "language": "python",
   "name": "python3"
  },
  "language_info": {
   "codemirror_mode": {
    "name": "ipython",
    "version": 3
   },
   "file_extension": ".py",
   "mimetype": "text/x-python",
   "name": "python",
   "nbconvert_exporter": "python",
   "pygments_lexer": "ipython3",
   "version": "3.9.0"
  }
 },
 "nbformat": 4,
 "nbformat_minor": 5
}
