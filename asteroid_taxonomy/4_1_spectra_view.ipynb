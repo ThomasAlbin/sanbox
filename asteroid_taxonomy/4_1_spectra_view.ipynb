{
 "cells": [
  {
   "source": [
    "[![Open In Colab](https://colab.research.google.com/assets/colab-badge.svg)](https://colab.research.google.com/github/ThomasAlbin/sandbox/blob/main/asteroid_taxonomy/4_1_spectra_view.ipynb)"
   ],
   "cell_type": "markdown",
   "metadata": {}
  },
  {
   "cell_type": "markdown",
   "id": "bff75253",
   "metadata": {},
   "source": [
    "# Step 4.1: Spectra View\n",
    "\n",
    "Now that we have parsed the data, let's take a look at some overlapping spectra views of the Bus and Main Group classification schema to get a feeling of the data we are working with."
   ]
  },
  {
   "cell_type": "code",
   "execution_count": 5,
   "id": "5e5441a2",
   "metadata": {},
   "outputs": [],
   "source": [
    "# Import standard libraries\n",
    "import os\n",
    "\n",
    "# Import installed libraries\n",
    "import ipywidgets\n",
    "from matplotlib import pyplot as plt\n",
    "import pandas as pd"
   ]
  },
  {
   "cell_type": "code",
   "execution_count": 6,
   "id": "f256d814",
   "metadata": {},
   "outputs": [],
   "source": [
    "# Let's mount the Google Drive, where we store files and models (if applicable, otherwise work\n",
    "# locally)\n",
    "try:\n",
    "    from google.colab import drive\n",
    "    drive.mount('/gdrive')\n",
    "    core_path = \"/gdrive/MyDrive/Colab/asteroid_taxonomy/\"\n",
    "except ModuleNotFoundError:\n",
    "    core_path = \"\""
   ]
  },
  {
   "cell_type": "code",
   "execution_count": 7,
   "id": "1e72cea0",
   "metadata": {},
   "outputs": [],
   "source": [
    "# Read the data\n",
    "asteroids_df = pd.read_pickle(os.path.join(core_path, \"data/lvl2/\", \"asteroids.pkl\"))"
   ]
  },
  {
   "cell_type": "markdown",
   "id": "4405178b",
   "metadata": {},
   "source": [
    "# Plot individual Bus-Class spectra\n",
    "\n",
    "The following code block allows one to plot Bus-Classes and Main Group spectra, merged into a single figure"
   ]
  },
  {
   "cell_type": "code",
   "execution_count": 8,
   "id": "247d4d76",
   "metadata": {},
   "outputs": [
    {
     "output_type": "display_data",
     "data": {
      "text/plain": "interactive(children=(Dropdown(description='top_class', options=('Bus_Class', 'Main_Group'), value='Bus_Class'…",
      "application/vnd.jupyter.widget-view+json": {
       "version_major": 2,
       "version_minor": 0,
       "model_id": "f5a15999a75d4f599ecc556b0fe69260"
      }
     },
     "metadata": {}
    }
   ],
   "source": [
    "# First we set up some nice interactive widgets\n",
    "top_class_widget = ipywidgets.Dropdown(options = ['Bus_Class', 'Main_Group'])\n",
    "sub_class_widget = ipywidgets.Dropdown()\n",
    "\n",
    "# Define a function that updates the content of the sub class based on the top class selection\n",
    "def update_sub_class(*args):\n",
    "    sub_class_widget.options = sorted(asteroids_df[top_class_widget.value].unique())\n",
    "top_class_widget.observe(update_sub_class)\n",
    "\n",
    "# Set the dark mode and the font size and style\n",
    "plt.style.use('dark_background')\n",
    "plt.rc('font', family='serif', size=18)\n",
    "\n",
    "# Set a function for the (interactive) plots\n",
    "def plot_single_spec(top_class, sub_class, ylim_fixed=False):\n",
    "    \n",
    "    # Create a \"wide screen figure\"\n",
    "    plt.figure(figsize=(20,8))\n",
    "\n",
    "    # Get the number of available spectra. This value is later used to adjust the alpha value ...\n",
    "    nr_of_spec = float(len(asteroids_df[top_class]==sub_class))\n",
    "\n",
    "    print(f\"Number of ({top_class}) {sub_class} spectra: {nr_of_spec}\")\n",
    "    \n",
    "    # ... however we do not want to exaggerate it with the transperancy!\n",
    "    if nr_of_spec > 10:\n",
    "        nr_of_spec = 10\n",
    "\n",
    "    # Iterate trough the spectra and plot them\n",
    "    for k in asteroids_df.loc[asteroids_df[top_class]==sub_class][\"SpectrumDF\"]:\n",
    "        plt.plot(k[\"Wavelength_in_microm\"], k[\"Reflectance_norm550nm\"], alpha=1.0/nr_of_spec, color='#ccebc4')\n",
    "\n",
    "    # Set labels\n",
    "    plt.xlabel(\"Wavelength in micrometer\")\n",
    "    plt.ylabel(\"Reflectance w.r.t. 0.55 micrometer\")\n",
    "\n",
    "    # Set a fixed y limit range if requested\n",
    "    if ylim_fixed:\n",
    "        plt.ylim(0.5, 1.5)\n",
    "\n",
    "    # Set the x limits\n",
    "    plt.xlim(min(k[\"Wavelength_in_microm\"]), max(k[\"Wavelength_in_microm\"]))\n",
    "\n",
    "    plt.show()\n",
    "\n",
    "# Create an interactive session!\n",
    "ipywidgets.interactive(plot_single_spec, top_class=top_class_widget, sub_class=sub_class_widget, ylim_fixed=False)"
   ]
  }
 ],
 "metadata": {
  "kernelspec": {
   "name": "python3",
   "display_name": "Python 3.9.5 64-bit"
  },
  "language_info": {
   "codemirror_mode": {
    "name": "ipython",
    "version": 3
   },
   "file_extension": ".py",
   "mimetype": "text/x-python",
   "name": "python",
   "nbconvert_exporter": "python",
   "pygments_lexer": "ipython3",
   "version": "3.9.5"
  },
  "interpreter": {
   "hash": "4cd7ab41f5fca4b9b44701077e38c5ffd31fe66a6cab21e0214b68d958d0e462"
  }
 },
 "nbformat": 4,
 "nbformat_minor": 5
}