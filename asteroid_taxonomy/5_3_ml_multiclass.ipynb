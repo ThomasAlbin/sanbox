{
 "cells": [
  {
   "cell_type": "markdown",
   "id": "f14c9d7a",
   "metadata": {},
   "source": [
    "# Step 5.3: Machine Learning - Multiclass\n",
    "\n",
    "Finally, we focus now on a multiclass SVM"
   ]
  },
  {
   "cell_type": "code",
   "execution_count": 1,
   "id": "63474560",
   "metadata": {},
   "outputs": [],
   "source": [
    "# Import standard libraries\n",
    "import os\n",
    "\n",
    "# Import installed libraries\n",
    "import numpy as np\n",
    "import pandas as pd\n",
    "import sklearn\n",
    "\n",
    "from sklearn import preprocessing\n",
    "from sklearn import svm\n",
    "from sklearn.model_selection import GridSearchCV"
   ]
  },
  {
   "cell_type": "code",
   "execution_count": 2,
   "id": "af9f8681",
   "metadata": {},
   "outputs": [],
   "source": [
    "# Let's mount the Google Drive, where we store files and models (if applicable, otherwise work\n",
    "# locally)\n",
    "try:\n",
    "    from google.colab import drive\n",
    "    drive.mount('/gdrive')\n",
    "    core_path = \"/gdrive/MyDrive/Colab/asteroid_taxonomy/\"\n",
    "except ModuleNotFoundError:\n",
    "    core_path = \"\""
   ]
  },
  {
   "cell_type": "code",
   "execution_count": 3,
   "id": "71bc69f6",
   "metadata": {},
   "outputs": [],
   "source": [
    "# Load the level 2 asteroid data\n",
    "asteroids_df = pd.read_pickle(os.path.join(core_path, \"data/lvl2/\", \"asteroids.pkl\"))"
   ]
  },
  {
   "cell_type": "code",
   "execution_count": 4,
   "id": "62493261",
   "metadata": {},
   "outputs": [],
   "source": [
    "# Allocate the spectra to one array and the classes to another one\n",
    "asteroids_X = np.array([k[\"Reflectance_norm550nm\"].tolist() for k in asteroids_df[\"SpectrumDF\"]])\n",
    "asteroids_y = np.array(asteroids_df[\"Main_Group\"].to_list())"
   ]
  },
  {
   "cell_type": "code",
   "execution_count": 11,
   "id": "39ead307-7368-4991-925d-9daba407e2f5",
   "metadata": {},
   "outputs": [],
   "source": [
    "# In this example we create a single test-training split with a ratio of 0.8 / 0.2\n",
    "from sklearn.model_selection import StratifiedShuffleSplit\n",
    "sss = StratifiedShuffleSplit(n_splits=1, test_size=0.2)\n",
    "\n",
    "# Create a simple, single train / test split\n",
    "for train_index, test_index in sss.split(asteroids_X, asteroids_y):\n",
    "    \n",
    "    X_train, X_test = asteroids_X[train_index], asteroids_X[test_index]\n",
    "    y_train, y_test = asteroids_y[train_index], asteroids_y[test_index]\n",
    "\n",
    "# Compute class weightnings\n",
    "weight_dict = {}\n",
    "for ast_type in np.unique(y_train):\n",
    "    weight_dict[ast_type] = int(1.0 / (len(y_train[y_train == ast_type]) / (len(y_train))))"
   ]
  },
  {
   "cell_type": "code",
   "execution_count": 41,
   "id": "87548b42-2b1f-4f2b-8718-600394d91b8a",
   "metadata": {},
   "outputs": [
    {
     "name": "stdout",
     "output_type": "stream",
     "text": [
      "Fitting 5 folds for each of 2 candidates, totalling 10 fits\n",
      "[CV 1/5] END ...........................C=100, kernel=linear; total time=   3.8s\n",
      "[CV 2/5] END ...........................C=100, kernel=linear; total time=   3.7s\n",
      "[CV 3/5] END ...........................C=100, kernel=linear; total time=   3.0s\n",
      "[CV 4/5] END ...........................C=100, kernel=linear; total time=   2.8s\n",
      "[CV 5/5] END ...........................C=100, kernel=linear; total time=   5.0s\n",
      "[CV 1/5] END ..............................C=100, kernel=rbf; total time=   0.0s\n",
      "[CV 2/5] END ..............................C=100, kernel=rbf; total time=   0.0s\n",
      "[CV 3/5] END ..............................C=100, kernel=rbf; total time=   0.0s\n",
      "[CV 4/5] END ..............................C=100, kernel=rbf; total time=   0.0s\n",
      "[CV 5/5] END ..............................C=100, kernel=rbf; total time=   0.0s\n"
     ]
    },
    {
     "data": {
      "text/plain": [
       "GridSearchCV(cv=5,\n",
       "             estimator=SVC(class_weight={'C': 3, 'Other': 8, 'S': 2, 'X': 5}),\n",
       "             param_grid=[{'C': [100], 'kernel': ['linear']},\n",
       "                         {'C': [100], 'kernel': ['rbf']}],\n",
       "             scoring=make_scorer(f1_score, average=weighted), verbose=3)"
      ]
     },
     "execution_count": 41,
     "metadata": {},
     "output_type": "execute_result"
    }
   ],
   "source": [
    "from sklearn.metrics import make_scorer, f1_score\n",
    "\n",
    "# Perform now a GridSearch with the following parameter range and kernels\n",
    "param_grid = [\n",
    "  {'C': np.logspace(0, 3, 25), 'kernel': ['linear']},\n",
    "  {'C': np.logspace(0, 3, 25), 'kernel': ['rbf']},\n",
    " ]\n",
    "\n",
    "# Set the SVM classifier\n",
    "svc = svm.SVC(class_weight=weight_dict)\n",
    "\n",
    "# Instantiate the StandardScaler (mean 0, standard deviation 1) and use the training data to fit\n",
    "# the scaler\n",
    "scaler = preprocessing.StandardScaler().fit(X_train)\n",
    "\n",
    "# Transform now the training data\n",
    "X_train_scaled = scaler.transform(X_train)\n",
    "\n",
    "# Set the GridSearch. Use the f1 \"weighted\" score in a maker_scorer function. And ...\n",
    "wclf = GridSearchCV(svc, param_grid, scoring=make_scorer(f1_score, average=\"weighted\"), verbose=3, cv=5)\n",
    "\n",
    "# ... perform the training!\n",
    "wclf.fit(X_train_scaled, y_train)"
   ]
  },
  {
   "cell_type": "code",
   "execution_count": 42,
   "id": "16c0d08f-5dea-4595-9041-30201d1a91f2",
   "metadata": {},
   "outputs": [
    {
     "name": "stdout",
     "output_type": "stream",
     "text": [
      "Kernel with the best result: rbf\n",
      "SVM information: SVC(C=100, class_weight={'C': 3, 'Other': 8, 'S': 2, 'X': 5})\n"
     ]
    }
   ],
   "source": [
    "# Let's print some SVM results\n",
    "final_clf = wclf.best_estimator_\n",
    "\n",
    "print(f\"Kernel with the best result: {final_clf.kernel}\")\n",
    "print(f\"SVM information: {final_clf}\")"
   ]
  },
  {
   "cell_type": "code",
   "execution_count": 20,
   "id": "6985e960",
   "metadata": {},
   "outputs": [],
   "source": [
    "# Scale the testing data ...\n",
    "X_test_scaled = scaler.transform(X_test)\n",
    "\n",
    "# ... and perform a predicition\n",
    "y_test_pred = final_clf.predict(X_test_scaled)"
   ]
  },
  {
   "cell_type": "code",
   "execution_count": 43,
   "id": "97aa4039",
   "metadata": {},
   "outputs": [
    {
     "name": "stdout",
     "output_type": "stream",
     "text": [
      "[[ 75   0   4   0]\n",
      " [  0 107   0   3]\n",
      " [  1   0  46   1]\n",
      " [  0   5   0  26]]\n"
     ]
    }
   ],
   "source": [
    "# Import the confusion matrix and perform the computation\n",
    "from sklearn.metrics import confusion_matrix\n",
    "conf_mat = confusion_matrix(y_test, y_test_pred, labels=[\"C\", \"S\", \"X\", \"Other\"])\n",
    "\n",
    "print(conf_mat)"
   ]
  },
  {
   "cell_type": "code",
   "execution_count": 44,
   "id": "ca1039f4-113a-49b0-8569-4ef911389da6",
   "metadata": {},
   "outputs": [
    {
     "data": {
      "image/png": "[encoded data removed]",
      "text/plain": [
       "<Figure size 432x288 with 2 Axes>"
      ]
     },
     "metadata": {
      "needs_background": "light"
     },
     "output_type": "display_data"
    }
   ],
   "source": [
    "# For a better visualisation, let's plot the confusion matrix\n",
    "import matplotlib.pyplot as plt  \n",
    "from sklearn.metrics import plot_confusion_matrix\n",
    "\n",
    "plot_confusion_matrix(final_clf, X_test_scaled, y_test, values_format='d')  \n",
    "plt.show()  "
   ]
  },
  {
   "cell_type": "code",
   "execution_count": 30,
   "id": "5686e26e",
   "metadata": {},
   "outputs": [
    {
     "name": "stdout",
     "output_type": "stream",
     "text": [
      "F1 Score: 0.948\n"
     ]
    }
   ],
   "source": [
    "# A combined score\n",
    "f1_score = round(sklearn.metrics.f1_score(y_test, y_test_pred, average=\"weighted\"), 3)\n",
    "print(f\"F1 Score: {f1_score}\")"
   ]
  }
 ],
 "metadata": {
  "kernelspec": {
   "display_name": "Python 3",
   "language": "python",
   "name": "python3"
  },
  "language_info": {
   "codemirror_mode": {
    "name": "ipython",
    "version": 3
   },
   "file_extension": ".py",
   "mimetype": "text/x-python",
   "name": "python",
   "nbconvert_exporter": "python",
   "pygments_lexer": "ipython3",
   "version": "3.9.0"
  }
 },
 "nbformat": 4,
 "nbformat_minor": 5
}
