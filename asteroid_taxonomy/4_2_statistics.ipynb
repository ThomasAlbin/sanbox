{
 "cells": [
  {
   "cell_type": "markdown",
   "id": "e2ac71ff",
   "metadata": {},
   "source": [
    "# Step 4.2: Statistics\n",
    "\n",
    "How does the classification distribution look like? How are the Bus Classes and corresponding Main Groups distributed? In total we have like 1,400 spectra that shall be used for training, verification and testing. It is likely that we cannot use the Bus Classes, but the Main ones. Otherwise the algorithm might get too biased..."
   ]
  },
  {
   "cell_type": "code",
   "execution_count": 1,
   "id": "fffa9e70",
   "metadata": {},
   "outputs": [],
   "source": [
    "# Import installed libraries\n",
    "import ipywidgets\n",
    "from matplotlib import pyplot as plt\n",
    "import pandas as pd"
   ]
  },
  {
   "cell_type": "code",
   "execution_count": 2,
   "id": "1acbee3b",
   "metadata": {},
   "outputs": [],
   "source": [
    "# Read the data\n",
    "asteroids_df = pd.read_pickle(\"data/lvl2/asteroids.pkl\")"
   ]
  },
  {
   "cell_type": "markdown",
   "id": "c6500ff1",
   "metadata": {},
   "source": [
    "# Print some descriptive statistics"
   ]
  },
  {
   "cell_type": "code",
   "execution_count": 14,
   "id": "04a4be79",
   "metadata": {},
   "outputs": [
    {
     "data": {
      "application/vnd.jupyter.widget-view+json": {
       "model_id": "616d28558dae41379a189c35de9d38bc",
       "version_major": 2,
       "version_minor": 0
      },
      "text/plain": [
       "interactive(children=(Dropdown(description='top_class', options=('Bus_Class', 'Main_Group'), value='Bus_Class'…"
      ]
     },
     "metadata": {},
     "output_type": "display_data"
    }
   ],
   "source": []
  }
 ],
 "metadata": {
  "kernelspec": {
   "display_name": "Python 3",
   "language": "python",
   "name": "python3"
  },
  "language_info": {
   "codemirror_mode": {
    "name": "ipython",
    "version": 3
   },
   "file_extension": ".py",
   "mimetype": "text/x-python",
   "name": "python",
   "nbconvert_exporter": "python",
   "pygments_lexer": "ipython3",
   "version": "3.9.3"
  }
 },
 "nbformat": 4,
 "nbformat_minor": 5
}
