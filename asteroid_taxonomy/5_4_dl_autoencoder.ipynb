{
 "cells": [
  {
   "cell_type": "markdown",
   "id": "f14c9d7a",
   "metadata": {},
   "source": [
    "# Step 5.3: Machine Learning - Multiclass\n",
    "\n",
    "Finally, we focus now on a multiclass SVM"
   ]
  },
  {
   "cell_type": "code",
   "execution_count": 1,
   "id": "63474560",
   "metadata": {},
   "outputs": [],
   "source": [
    "# Import standard libraries\n",
    "import os\n",
    "\n",
    "# Import installed libraries\n",
    "import numpy as np\n",
    "import pandas as pd\n",
    "import sklearn\n",
    "\n",
    "from sklearn import preprocessing\n",
    "from sklearn import svm\n",
    "from sklearn.model_selection import GridSearchCV"
   ]
  },
  {
   "cell_type": "code",
   "execution_count": 2,
   "id": "af9f8681",
   "metadata": {},
   "outputs": [],
   "source": [
    "# Let's mount the Google Drive, where we store files and models (if applicable, otherwise work\n",
    "# locally)\n",
    "try:\n",
    "    from google.colab import drive\n",
    "    drive.mount('/gdrive')\n",
    "    core_path = \"/gdrive/MyDrive/Colab/asteroid_taxonomy/\"\n",
    "except ModuleNotFoundError:\n",
    "    core_path = \"\""
   ]
  },
  {
   "cell_type": "code",
   "execution_count": 3,
   "id": "71bc69f6",
   "metadata": {},
   "outputs": [],
   "source": [
    "# Load the level 2 asteroid data\n",
    "asteroids_df = pd.read_pickle(os.path.join(core_path, \"data/lvl2/\", \"asteroids.pkl\"))"
   ]
  },
  {
   "cell_type": "code",
   "execution_count": 4,
   "id": "62493261",
   "metadata": {},
   "outputs": [],
   "source": [
    "# Allocate the spectra to one array and the classes to another one\n",
    "asteroids_X = np.array([k[\"Reflectance_norm550nm\"].tolist() for k in asteroids_df[\"SpectrumDF\"]])\n",
    "asteroids_y = np.array(asteroids_df[\"Main_Group\"].to_list())"
   ]
  },
  {
   "cell_type": "code",
   "execution_count": 5,
   "id": "39ead307-7368-4991-925d-9daba407e2f5",
   "metadata": {},
   "outputs": [],
   "source": [
    "# In this example we create a single test-training split with a ratio of 0.8 / 0.2\n",
    "from sklearn.model_selection import StratifiedShuffleSplit\n",
    "sss = StratifiedShuffleSplit(n_splits=1, test_size=0.2)\n",
    "\n",
    "# Create a simple, single train / test split\n",
    "for train_index, test_index in sss.split(asteroids_X, asteroids_y):\n",
    "    \n",
    "    X_train, X_test = asteroids_X[train_index], asteroids_X[test_index]\n",
    "    y_train, y_test = asteroids_y[train_index], asteroids_y[test_index]"
   ]
  },
  {
   "cell_type": "code",
   "execution_count": 6,
   "id": "87548b42-2b1f-4f2b-8718-600394d91b8a",
   "metadata": {},
   "outputs": [],
   "source": [
    "# Instantiate the StandardScaler (mean 0, standard deviation 1) and use the training data to fit\n",
    "# the scaler\n",
    "scaler = preprocessing.MinMaxScaler().fit(X_train)\n",
    "\n",
    "# Transform now the training data\n",
    "X_train_scaled = scaler.transform(X_train)\n",
    "X_test_scaled = scaler.transform(X_test)"
   ]
  },
  {
   "cell_type": "code",
   "execution_count": 7,
   "id": "5931704e-bee4-4891-b03c-8b9b8f755e4c",
   "metadata": {},
   "outputs": [
    {
     "name": "stdout",
     "output_type": "stream",
     "text": [
      "INFO:tensorflow:Enabling eager execution\n",
      "INFO:tensorflow:Enabling v2 tensorshape\n",
      "INFO:tensorflow:Enabling resource variables\n",
      "INFO:tensorflow:Enabling tensor equality\n",
      "INFO:tensorflow:Enabling control flow v2\n"
     ]
    }
   ],
   "source": [
    "import tensorflow.keras as keras"
   ]
  },
  {
   "cell_type": "code",
   "execution_count": 14,
   "id": "8836e097-2a1c-4a1c-b308-c5becc6617db",
   "metadata": {},
   "outputs": [
    {
     "name": "stdout",
     "output_type": "stream",
     "text": [
      "49\n",
      "Epoch 1/25\n",
      "11/11 - 1s - loss: 0.5805 - val_loss: 0.2157\n",
      "Epoch 2/25\n",
      "11/11 - 0s - loss: 0.2021 - val_loss: 0.1896\n",
      "Epoch 3/25\n",
      "11/11 - 0s - loss: 0.0756 - val_loss: 0.1646\n",
      "Epoch 4/25\n",
      "11/11 - 0s - loss: 0.0318 - val_loss: 0.1434\n",
      "Epoch 5/25\n",
      "11/11 - 0s - loss: 0.0169 - val_loss: 0.1264\n",
      "Epoch 6/25\n",
      "11/11 - 0s - loss: 0.0131 - val_loss: 0.1141\n",
      "Epoch 7/25\n",
      "11/11 - 0s - loss: 0.0097 - val_loss: 0.1026\n",
      "Epoch 8/25\n",
      "11/11 - 0s - loss: 0.0085 - val_loss: 0.0921\n",
      "Epoch 9/25\n",
      "11/11 - 0s - loss: 0.0079 - val_loss: 0.0825\n",
      "Epoch 10/25\n",
      "11/11 - 0s - loss: 0.0073 - val_loss: 0.0738\n",
      "Epoch 11/25\n",
      "11/11 - 0s - loss: 0.0067 - val_loss: 0.0666\n",
      "Epoch 12/25\n",
      "11/11 - 0s - loss: 0.0060 - val_loss: 0.0602\n",
      "Epoch 13/25\n",
      "11/11 - 0s - loss: 0.0060 - val_loss: 0.0541\n",
      "Epoch 14/25\n",
      "11/11 - 0s - loss: 0.0054 - val_loss: 0.0487\n",
      "Epoch 15/25\n",
      "11/11 - 0s - loss: 0.0055 - val_loss: 0.0441\n",
      "Epoch 16/25\n",
      "11/11 - 0s - loss: 0.0049 - val_loss: 0.0400\n",
      "Epoch 17/25\n",
      "11/11 - 0s - loss: 0.0048 - val_loss: 0.0367\n",
      "Epoch 18/25\n",
      "11/11 - 0s - loss: 0.0041 - val_loss: 0.0328\n",
      "Epoch 19/25\n",
      "11/11 - 0s - loss: 0.0044 - val_loss: 0.0305\n",
      "Epoch 20/25\n",
      "11/11 - 0s - loss: 0.0045 - val_loss: 0.0281\n",
      "Epoch 21/25\n",
      "11/11 - 0s - loss: 0.0041 - val_loss: 0.0255\n",
      "Epoch 22/25\n",
      "11/11 - 0s - loss: 0.0041 - val_loss: 0.0231\n",
      "Epoch 23/25\n",
      "11/11 - 0s - loss: 0.0042 - val_loss: 0.0221\n",
      "Epoch 24/25\n",
      "11/11 - 0s - loss: 0.0043 - val_loss: 0.0199\n",
      "Epoch 25/25\n",
      "11/11 - 0s - loss: 0.0036 - val_loss: 0.0175\n"
     ]
    },
    {
     "data": {
      "image/png": "[encoded data removed]",
      "text/plain": [
       "<Figure size 432x288 with 1 Axes>"
      ]
     },
     "metadata": {
      "needs_background": "light"
     },
     "output_type": "display_data"
    }
   ],
   "source": [
    "from matplotlib import pyplot\n",
    "n_inputs = asteroids_X.shape[1]\n",
    "print(n_inputs)\n",
    "\n",
    "# define encoder\n",
    "visible = keras.layers.Input(shape=(n_inputs,))\n",
    "# encoder level 1\n",
    "e = keras.layers.Dense(n_inputs*2)(visible)\n",
    "e = keras.layers.BatchNormalization()(e)\n",
    "e = keras.layers.LeakyReLU()(e)\n",
    "# encoder level 2\n",
    "e = keras.layers.Dense(n_inputs)(e)\n",
    "e = keras.layers.BatchNormalization()(e)\n",
    "e = keras.layers.LeakyReLU()(e)\n",
    "# bottleneck\n",
    "n_bottleneck = int(n_inputs / 5.0)\n",
    "n_bottleneck = 2\n",
    "bottleneck = keras.layers.Dense(n_bottleneck)(e)\n",
    "# define decoder, level 1\n",
    "d = keras.layers.Dense(n_inputs)(bottleneck)\n",
    "d = keras.layers.BatchNormalization()(d)\n",
    "d = keras.layers.LeakyReLU()(d)\n",
    "# decoder level 2\n",
    "d = keras.layers.Dense(n_inputs*2)(d)\n",
    "d = keras.layers.BatchNormalization()(d)\n",
    "d = keras.layers.LeakyReLU()(d)\n",
    "# output layer\n",
    "output = keras.layers.Dense(n_inputs, activation='linear')(d)\n",
    "# define autoencoder model\n",
    "model = keras.models.Model(inputs=visible, outputs=output)\n",
    "# compile autoencoder model\n",
    "model.compile(optimizer='adam', loss='mse')\n",
    "\n",
    "history = model.fit(X_train_scaled, X_train_scaled, epochs=25, batch_size=100, verbose=2, validation_data=(X_test_scaled,X_test_scaled))\n",
    "# plot loss\n",
    "pyplot.plot(history.history['loss'], label='train')\n",
    "pyplot.plot(history.history['val_loss'], label='test')\n",
    "pyplot.legend()\n",
    "pyplot.show()"
   ]
  },
  {
   "cell_type": "code",
   "execution_count": 12,
   "id": "dd108f19-9dbe-4387-956d-1d65db781ffe",
   "metadata": {},
   "outputs": [
    {
     "name": "stdout",
     "output_type": "stream",
     "text": [
      "('You must install pydot (`pip install pydot`) and install graphviz (see instructions at https://graphviz.gitlab.io/download/) ', 'for plot_model/model_to_dot to work.')\n"
     ]
    }
   ],
   "source": [
    "from keras.utils.vis_utils import plot_model\n",
    "plot_model(model, 'test.png')"
   ]
  }
 ],
 "metadata": {
  "kernelspec": {
   "display_name": "Python 3",
   "language": "python",
   "name": "python3"
  },
  "language_info": {
   "codemirror_mode": {
    "name": "ipython",
    "version": 3
   },
   "file_extension": ".py",
   "mimetype": "text/x-python",
   "name": "python",
   "nbconvert_exporter": "python",
   "pygments_lexer": "ipython3",
   "version": "3.9.0"
  }
 },
 "nbformat": 4,
 "nbformat_minor": 5
}
