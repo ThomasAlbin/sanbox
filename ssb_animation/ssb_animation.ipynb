{
 "cells": [
  {
   "cell_type": "code",
   "execution_count": 1,
   "metadata": {},
   "outputs": [],
   "source": [
    "# Import modules\n",
    "import datetime\n",
    "import glob\n",
    "\n",
    "# Import installed / 3rd party modules\n",
    "import imageio\n",
    "import numpy as np\n",
    "import matplotlib\n",
    "import matplotlib.pyplot as plt\n",
    "import pathlib\n",
    "import spiceypy\n",
    "import tqdm\n",
    "\n",
    "# Load the SPICE kernels via a meta file\n",
    "spiceypy.furnsh('kernel_meta.txt')"
   ]
  },
  {
   "cell_type": "code",
   "execution_count": 2,
   "metadata": {},
   "outputs": [
    {
     "name": "stdout",
     "output_type": "stream",
     "text": [
      "Init time in UTC: 2000-01-01T00:00:00\n",
      "End time in UTC: 2027-05-19T00:00:00\n",
      "\n"
     ]
    }
   ],
   "source": [
    "# We want to compute the Solar System barycentre (SSB) w.r.t to the centre of\n",
    "# the Sun for a certain time interval\n",
    "# First, we set an initial time in UTC.\n",
    "init_time_utc = datetime.datetime(year=2000, month=1, day=1, \\\n",
    "                                  hour=0, minute=0, second=0)\n",
    "\n",
    "# Add a number of days; you can play around with the datetime variables; but\n",
    "# leave it as it is for the first try, since other computations and comments\n",
    "# are based on this value.\n",
    "delta_days = 10000\n",
    "end_time_utc = init_time_utc + datetime.timedelta(days=delta_days)\n",
    "\n",
    "# Convert the datetime objects now to strings\n",
    "init_time_utc_str = init_time_utc.strftime('%Y-%m-%dT%H:%M:%S')\n",
    "end_time_utc_str = end_time_utc.strftime('%Y-%m-%dT%H:%M:%S')\n",
    "\n",
    "# Print the starting and end times\n",
    "print('Init time in UTC: %s' % init_time_utc_str)\n",
    "print('End time in UTC: %s\\n' % end_time_utc_str)\n",
    "\n",
    "# Convert to Ephemeris Time (ET) using the SPICE function utc2et.\n",
    "init_time_et = spiceypy.utc2et(init_time_utc_str)\n",
    "end_time_et = spiceypy.utc2et(end_time_utc_str)"
   ]
  },
  {
   "cell_type": "code",
   "execution_count": 3,
   "metadata": {},
   "outputs": [],
   "source": [
    "# Now we compute the position of the Solar System's barycentre w.r.t. our Sun:\n",
    "# First we set an empty list that stores later all x, y, z components for each\n",
    "# time step\n",
    "ssb_wrt_sun_position = []\n",
    "\n",
    "# What shall the time step be? Given in seconds\n",
    "time_delta = 864000 * 2 # 864000 corresponds to 10 days\n",
    "\n",
    "# Time interval\n",
    "time_interval_et = np.arange(init_time_et, end_time_et, time_delta)"
   ]
  },
  {
   "cell_type": "code",
   "execution_count": 4,
   "metadata": {},
   "outputs": [],
   "source": [
    "# We will use the Sun Radius to scale the values\n",
    "_, radii_sun = spiceypy.bodvcd(bodyid=10, item='RADII', maxn=3)\n",
    "\n",
    "radius_sun = radii_sun[0]"
   ]
  },
  {
   "cell_type": "code",
   "execution_count": 5,
   "metadata": {},
   "outputs": [
    {
     "name": "stderr",
     "output_type": "stream",
     "text": [
      "501it [02:44,  3.05it/s]\n"
     ]
    },
    {
     "data": {
      "text/plain": [
       "<Figure size 432x288 with 0 Axes>"
      ]
     },
     "metadata": {},
     "output_type": "display_data"
    }
   ],
   "source": [
    "# Create a temporary folder to store all figures\n",
    "pathlib.Path('temp/').mkdir(parents=True, exist_ok=True)\n",
    "\n",
    "# Set font properties\n",
    "font = {'size': 10}\n",
    "\n",
    "matplotlib.rc('font', **font)\n",
    "\n",
    "# Set a dark background... since... space is dark\n",
    "plt.style.use('dark_background')\n",
    "\n",
    "# Set placeholders for the ecliptic longitude and distance values\n",
    "ssb_ecl_long = []\n",
    "ssb_dist = []\n",
    "\n",
    "# Iterate through all ET times\n",
    "for index, et_it in tqdm.tqdm(enumerate(time_interval_et)):\n",
    "\n",
    "    # Create the plot with its content\n",
    "    plt.clf()\n",
    "\n",
    "    # Create a figure + axes in polar coordiantes\n",
    "    fig, ax = plt.subplots(subplot_kw={'projection': 'polar'}, figsize=(7, 7))\n",
    "    \n",
    "    # Create a yellow circle that represents the Sun, add it to the ax\n",
    "    sun_circ = plt.Circle((0.0, 0.0), 1, transform=ax.transData._b, color=\"yellow\", alpha=0.8)\n",
    "    ax.add_artist(sun_circ)\n",
    "    \n",
    "    # Compute the SSB position (0) as seen from the Sun (10)\n",
    "    _ssb_position, _ = spiceypy.spkgps(targ=0,\n",
    "                                       et=et_it, \\\n",
    "                                       ref='ECLIPJ2000',\n",
    "                                       obs=10)\n",
    "\n",
    "    # Convert the vector to polar coordinates\n",
    "    _dist, _ecl_long, _ = spiceypy.recrad(_ssb_position)\n",
    "\n",
    "    \n",
    "    # Append the results to the final list. Scale the distance using the Sun's radius\n",
    "    ssb_ecl_long.append(_ecl_long)\n",
    "    ssb_dist.append(_dist / radius_sun)\n",
    "\n",
    "    # Plot the current SSB position. If the list contains more than 1 value, plot a dashed line,\n",
    "    # representing previous results\n",
    "    ax.plot(ssb_ecl_long[-1], ssb_dist[-1], marker='o', color=\"forestgreen\", markersize=4)\n",
    "    if len(ssb_ecl_long) > 2:\n",
    "        ax.plot(ssb_ecl_long, ssb_dist, linestyle='--', color=\"forestgreen\", linewidth=2)\n",
    "\n",
    "    # Let's display the Vernal Equinox (only)\n",
    "    _, _ = plt.thetagrids(range(0, 360, 90), ('Vernal\\n Equinox', '', '', ''),\n",
    "                          multialignment=\"center\")\n",
    "        \n",
    "    # Create now vectors that indicate the direction of some chosen planets:\n",
    "    for planet_dict in [{\"planet\": \"Jupiter\", \"NAIF-ID\": 5, \"color\": \"tab:purple\"},\n",
    "                        {\"planet\": \"Saturn\", \"NAIF-ID\": 6, \"color\": \"tab:olive\"}]:\n",
    "        \n",
    "        # Compute the planet's position\n",
    "        planet_position, _ = spiceypy.spkgps(targ=planet_dict[\"NAIF-ID\"], et=et_it,\n",
    "                                             ref=\"ECLIPJ2000\", obs=10)\n",
    "    \n",
    "        # Convert to the ecliptic longitude for the polar plot\n",
    "        _, _planet_ecl_long, _ = spiceypy.recrad(planet_position)\n",
    "    \n",
    "        # Use only the longitude to indicate the pointing direction of the planet\n",
    "        plt.arrow(_planet_ecl_long, 1.5, 0, 1,\n",
    "                  alpha = 0.8, width = 0.015,\n",
    "                  edgecolor = planet_dict[\"color\"], facecolor = planet_dict[\"color\"], lw = 1,\n",
    "                  label=planet_dict[\"planet\"])\n",
    "\n",
    "    # Set a legend outside the plot\n",
    "    ax.legend(loc='upper center', bbox_to_anchor=(0.5, -0.05), fancybox=True, shadow=True, ncol=3)\n",
    "    \n",
    "    # Set a title that contains the datetime\n",
    "    plt.title(\"Position of the Solar System Barycenter (green) at: \" \\\n",
    "              + f\"{spiceypy.et2datetime(et_it).strftime('%Y %j')}\")\n",
    "\n",
    "    # Set some plotting parameters\n",
    "    ax.set_aspect('equal')\n",
    "    ax.set_rmax(3)\n",
    "    ax.grid(False)\n",
    "    ax.set_yticklabels([])\n",
    "    ax.set_xticklabels([])\n",
    "    ax.spines[\"polar\"].set_visible(False)\n",
    "\n",
    "    # Saving the figure in high quality.\n",
    "    plt.savefig(f'temp/SSB_WRT_SUN_{str(index).zfill(4)}.png', dpi=300)\n",
    "    \n",
    "    # Close\n",
    "    plt.close()"
   ]
  },
  {
   "cell_type": "code",
   "execution_count": 6,
   "metadata": {},
   "outputs": [
    {
     "name": "stderr",
     "output_type": "stream",
     "text": [
      "100%|█████████████████████████████████████████| 501/501 [00:42<00:00, 11.68it/s]\n"
     ]
    }
   ],
   "source": [
    "# In this part all figures are merged into one animation (GIF)\n",
    "\n",
    "# Get all filepaths\n",
    "file_names = sorted(glob.glob('temp/*.png'))\n",
    "\n",
    "# Set an empty list that will contain all images\n",
    "ssb_images = []\n",
    "\n",
    "# Iterate through the list of image paths, read the image with the imageio\n",
    "# library and append the result to the list\n",
    "for figure_f in tqdm.tqdm(file_names):\n",
    "    ssb_images.append(imageio.imread(figure_f))"
   ]
  },
  {
   "cell_type": "code",
   "execution_count": 7,
   "metadata": {},
   "outputs": [],
   "source": [
    "# Save the list of images as a GIF. The duration of a single image is given\n",
    "# in seconds\n",
    "imageio.mimsave('ssb_movement.gif', ssb_images, duration=0.015)"
   ]
  }
 ],
 "metadata": {
  "interpreter": {
   "hash": "aee8b7b246df8f9039afb4144a1f6fd8d2ca17a180786b69acc140d282b71a49"
  },
  "kernelspec": {
   "display_name": "Python 3 (ipykernel)",
   "language": "python",
   "name": "python3"
  },
  "language_info": {
   "codemirror_mode": {
    "name": "ipython",
    "version": 3
   },
   "file_extension": ".py",
   "mimetype": "text/x-python",
   "name": "python",
   "nbconvert_exporter": "python",
   "pygments_lexer": "ipython3",
   "version": "3.9.7"
  }
 },
 "nbformat": 4,
 "nbformat_minor": 4
}
